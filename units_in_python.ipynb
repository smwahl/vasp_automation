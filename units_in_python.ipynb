{
 "metadata": {
  "name": "",
  "signature": "sha256:c44c2b9250a2abe7f617ac2d658ac724ede8aa3817c1e56ef05c17fe00d040af"
 },
 "nbformat": 3,
 "nbformat_minor": 0,
 "worksheets": [
  {
   "cells": [
    {
     "cell_type": "heading",
     "level": 1,
     "metadata": {},
     "source": [
      "Pint"
     ]
    },
    {
     "cell_type": "markdown",
     "metadata": {},
     "source": [
      "If you use Pint in multiple modules within you Python package, you normally want to avoid creating multiple instances of the unit registry. The best way to do this is by instantiating the registry in a single place. For example, you can add the following code to your package \\_\\_init\\_\\_.py:"
     ]
    },
    {
     "cell_type": "code",
     "collapsed": false,
     "input": [
      "from pint import UnitRegistry\n",
      "ureg = UnitRegistry()\n",
      "Q_ = ureg.Quantity"
     ],
     "language": "python",
     "metadata": {},
     "outputs": [],
     "prompt_number": 1
    },
    {
     "cell_type": "code",
     "collapsed": false,
     "input": [
      "e = ureg.hartree\n",
      "e.ito(ureg.eV)"
     ],
     "language": "python",
     "metadata": {},
     "outputs": [
      {
       "html": [
        "27.2113831302 eV"
       ],
       "latex": [
        "$27.2113831302 eV$"
       ],
       "metadata": {},
       "output_type": "pyout",
       "prompt_number": 3,
       "text": [
        "<Quantity(27.2113831302, 'eV')>"
       ]
      }
     ],
     "prompt_number": 3
    },
    {
     "cell_type": "code",
     "collapsed": false,
     "input": [
      "ha_to_eV = e.ito(ureg.eV).magnitude\n",
      "ha_to_eV"
     ],
     "language": "python",
     "metadata": {},
     "outputs": [
      {
       "metadata": {},
       "output_type": "pyout",
       "prompt_number": 5,
       "text": [
        "27.211383130172305"
       ]
      }
     ],
     "prompt_number": 5
    },
    {
     "cell_type": "code",
     "collapsed": false,
     "input": [
      "e2 = e*2.0\n",
      "e2"
     ],
     "language": "python",
     "metadata": {},
     "outputs": [
      {
       "html": [
        "54.4227662603 eV"
       ],
       "latex": [
        "$54.4227662603 eV$"
       ],
       "metadata": {},
       "output_type": "pyout",
       "prompt_number": 16,
       "text": [
        "<Quantity(54.4227662603, 'eV')>"
       ]
      }
     ],
     "prompt_number": 16
    },
    {
     "cell_type": "code",
     "collapsed": false,
     "input": [
      "s = ureg.hartree / ureg.kelvin\n",
      "s.ito(ureg.boltzmann_constant)"
     ],
     "language": "python",
     "metadata": {},
     "outputs": [
      {
       "html": [
        "315775.013892 boltzmann_constant"
       ],
       "latex": [
        "$315775.013892 boltzmann_constant$"
       ],
       "metadata": {},
       "output_type": "pyout",
       "prompt_number": 28,
       "text": [
        "<Quantity(315775.013892, 'boltzmann_constant')>"
       ]
      }
     ],
     "prompt_number": 28
    },
    {
     "cell_type": "code",
     "collapsed": false,
     "input": [
      "ha_K_to_kb = s.magnitude\n",
      "ha_K_to_kb"
     ],
     "language": "python",
     "metadata": {},
     "outputs": [
      {
       "metadata": {},
       "output_type": "pyout",
       "prompt_number": 30,
       "text": [
        "315775.01389201946"
       ]
      }
     ],
     "prompt_number": 30
    },
    {
     "cell_type": "heading",
     "level": 1,
     "metadata": {},
     "source": [
      "Astropy"
     ]
    },
    {
     "cell_type": "markdown",
     "metadata": {},
     "source": [
      "This is specifically astronomy stuff, doesn't have hartree for instance"
     ]
    },
    {
     "cell_type": "code",
     "collapsed": false,
     "input": [
      "from astropy import units as u"
     ],
     "language": "python",
     "metadata": {},
     "outputs": [],
     "prompt_number": 6
    },
    {
     "cell_type": "code",
     "collapsed": false,
     "input": [
      "u.solMass"
     ],
     "language": "python",
     "metadata": {},
     "outputs": [
      {
       "latex": [
        "$\\mathrm{M_{\\odot}}$"
       ],
       "metadata": {},
       "output_type": "pyout",
       "prompt_number": 8,
       "text": [
        "Unit(\"solMass\")"
       ]
      }
     ],
     "prompt_number": 8
    },
    {
     "cell_type": "heading",
     "level": 1,
     "metadata": {},
     "source": [
      "Units"
     ]
    },
    {
     "cell_type": "code",
     "collapsed": false,
     "input": [
      "from units import unit"
     ],
     "language": "python",
     "metadata": {},
     "outputs": [],
     "prompt_number": 10
    },
    {
     "cell_type": "code",
     "collapsed": false,
     "input": [
      "meter = unit('m')\n",
      "second = unit('s')"
     ],
     "language": "python",
     "metadata": {},
     "outputs": [],
     "prompt_number": 18
    },
    {
     "cell_type": "code",
     "collapsed": false,
     "input": [
      "print(meter(20.) / second(2.))"
     ],
     "language": "python",
     "metadata": {},
     "outputs": [
      {
       "output_type": "stream",
       "stream": "stdout",
       "text": [
        "10.00 m / s\n"
       ]
      }
     ],
     "prompt_number": 20
    },
    {
     "cell_type": "heading",
     "level": 1,
     "metadata": {},
     "source": [
      "Scipy.constants"
     ]
    },
    {
     "cell_type": "code",
     "collapsed": false,
     "input": [
      "from scipy import constants as consts"
     ],
     "language": "python",
     "metadata": {},
     "outputs": [],
     "prompt_number": 23
    },
    {
     "cell_type": "code",
     "collapsed": false,
     "input": [
      "consts.Boltzmann"
     ],
     "language": "python",
     "metadata": {},
     "outputs": [
      {
       "metadata": {},
       "output_type": "pyout",
       "prompt_number": 24,
       "text": [
        "1.3806488e-23"
       ]
      }
     ],
     "prompt_number": 24
    },
    {
     "cell_type": "code",
     "collapsed": false,
     "input": [
      "consts.physical_constants['hartree-electron volt relationship']"
     ],
     "language": "python",
     "metadata": {},
     "outputs": [
      {
       "metadata": {},
       "output_type": "pyout",
       "prompt_number": 25,
       "text": [
        "(27.21138505, 'eV', 6e-07)"
       ]
      }
     ],
     "prompt_number": 25
    },
    {
     "cell_type": "markdown",
     "metadata": {},
     "source": [
      "http://docs.scipy.org/doc/scipy/reference/constants.html"
     ]
    },
    {
     "cell_type": "code",
     "collapsed": false,
     "input": [
      "consts.physical_constants[']"
     ],
     "language": "python",
     "metadata": {},
     "outputs": []
    }
   ],
   "metadata": {}
  }
 ]
}