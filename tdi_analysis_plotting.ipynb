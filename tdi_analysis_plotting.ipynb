{
 "metadata": {
  "name": ""
 },
 "nbformat": 3,
 "nbformat_minor": 0,
 "worksheets": [
  {
   "cells": [
    {
     "cell_type": "markdown",
     "metadata": {},
     "source": [
      "Analysis and plotting of results stored in pandas dataframes"
     ]
    },
    {
     "cell_type": "code",
     "collapsed": false,
     "input": [
      "import numpy as np\n",
      "import pandas as pd\n",
      "import scipy as sp\n",
      "\n",
      "\n",
      "import matplotlib\n",
      "matplotlib.use('MacOSX')\n",
      "%matplotlib inline\n",
      "import matplotlib.pyplot as plt\n",
      "\n",
      "Ha_to_eV = 2.721138385465e+01"
     ],
     "language": "python",
     "metadata": {},
     "outputs": [
      {
       "output_type": "stream",
       "stream": "stderr",
       "text": [
        "/Users/swahl/anaconda/python.app/Contents/lib/python2.7/site-packages/matplotlib/__init__.py:1141: UserWarning:  This call to matplotlib.use() has no effect\n",
        "because the the backend has already been chosen;\n",
        "matplotlib.use() must be called *before* pylab, matplotlib.pyplot,\n",
        "or matplotlib.backends is imported for the first time.\n",
        "\n",
        "  warnings.warn(_use_error_msg)\n"
       ]
      }
     ],
     "prompt_number": 26
    },
    {
     "cell_type": "code",
     "collapsed": false,
     "input": [
      "# Saved Table locations:\n",
      "\n",
      "!ls /Users/swahl/dat/pleiades/tables\n",
      "\n",
      "cmc_file = '/Users/swahl/dat/pleiades/tables/cmc.df'\n",
      "dft_file = '/Users/swahl/dat/pleiades/tables/dft.df'\n",
      "eos_file = '/Users/swahl/dat/pleiades/tables/dft_eos.df'\n",
      "tdi_file = '/Users/swahl/dat/pleiades/tables/tdi.df'"
     ],
     "language": "python",
     "metadata": {},
     "outputs": [
      {
       "output_type": "stream",
       "stream": "stdout",
       "text": [
        "cmc.df     dft.df     dft_eos.df tdi.df\r\n"
       ]
      }
     ],
     "prompt_number": 27
    },
    {
     "cell_type": "code",
     "collapsed": false,
     "input": [
      "# load files\n",
      "import pandas as pd\n",
      "cmc = pd.read_pickle(cmc_file)\n",
      "dft = pd.read_pickle(dft_file)\n",
      "eos = pd.read_pickle(eos_file)\n",
      "tdi = pd.read_pickle(tdi_file)"
     ],
     "language": "python",
     "metadata": {},
     "outputs": [],
     "prompt_number": 28
    },
    {
     "cell_type": "code",
     "collapsed": false,
     "input": [
      "# MgO is a phase that may nearly be solid, so we wish to check the shape of the dVcell( lambda) curve\n",
      "# There may be a problem if this is not nearly linear\n",
      "mgo_tdi = tdi[tdi.system =='Mg32O32']"
     ],
     "language": "python",
     "metadata": {},
     "outputs": [],
     "prompt_number": 29
    },
    {
     "cell_type": "code",
     "collapsed": false,
     "input": [
      "for idx,row in mgo_tdi.iterrows():\n",
      "    \n",
      "    # get lambda values, dV and std from from the table\n",
      "    lam = np.array(row['lambdas'])\n",
      "    dVcell = np.array( [ x[0] for x in row['dVcell'] ] )\n",
      "    dVsig = np.array( [ np.sqrt(x) for x in row['dV_var'] ] )\n",
      "    \n",
      "    T = row['temp']; Ptar = row['P_target']\n",
      "    print T, Ptar\n",
      "    \n",
      "    # clear figure and plot the new series\n",
      "    fig = plt.figure()\n",
      "    ax = fig.add_subplot(1,1,1)\n",
      "    ax.plot(lam,dVcell, '-b')\n",
      "    ax.fill_between(lam,dVcell+dVsig,dVcell-dVsig,color='b',alpha=.3)\n",
      "    ax.set_title('T = {} K, T = {} GPa'.format(T,Ptar))\n",
      "    ax.set_ylabel('dV / cell (Ha)')\n",
      "    ax.set_xlabel('lambda')\n",
      "    \n",
      "\n",
      "    plt.show()\n",
      "\n",
      "    \n",
      "    # wait for a keypress to continue\n",
      "    raw_input(\"Press Enter to continue...\")\n",
      "    #input(\"Press Enter to continue...\")\n",
      "    \n",
      "    "
     ],
     "language": "python",
     "metadata": {},
     "outputs": [
      {
       "output_type": "stream",
       "stream": "stdout",
       "text": [
        "5000.0 50.0\n"
       ]
      },
      {
       "metadata": {},
       "output_type": "display_data",
       "png": "[encoded data removed]",
       "text": [
        "<matplotlib.figure.Figure at 0x106fe6ad0>"
       ]
      },
      {
       "name": "stdout",
       "output_type": "stream",
       "stream": "stdout",
       "text": [
        "Press Enter to continue...\n"
       ]
      },
      {
       "output_type": "stream",
       "stream": "stdout",
       "text": [
        "7500.0 50.0\n"
       ]
      },
      {
       "metadata": {},
       "output_type": "display_data",
       "png": "[encoded data removed]",
       "text": [
        "<matplotlib.figure.Figure at 0x107422110>"
       ]
      },
      {
       "name": "stdout",
       "output_type": "stream",
       "stream": "stdout",
       "text": [
        "Press Enter to continue...\n"
       ]
      },
      {
       "output_type": "stream",
       "stream": "stdout",
       "text": [
        "10000.0 50.0\n"
       ]
      },
      {
       "metadata": {},
       "output_type": "display_data",
       "png": "[encoded data removed]",
       "text": [
        "<matplotlib.figure.Figure at 0x106fcced0>"
       ]
      },
      {
       "name": "stdout",
       "output_type": "stream",
       "stream": "stdout",
       "text": [
        "Press Enter to continue...\n"
       ]
      },
      {
       "output_type": "stream",
       "stream": "stdout",
       "text": [
        "8000.0 100.0\n"
       ]
      },
      {
       "metadata": {},
       "output_type": "display_data",
       "png": "[encoded data removed]",
       "text": [
        "<matplotlib.figure.Figure at 0x106fac850>"
       ]
      },
      {
       "name": "stdout",
       "output_type": "stream",
       "stream": "stdout",
       "text": [
        "Press Enter to continue...\n"
       ]
      },
      {
       "output_type": "stream",
       "stream": "stdout",
       "text": [
        "10000.0 100.0\n"
       ]
      },
      {
       "metadata": {},
       "output_type": "display_data",
       "png": "[encoded data removed]",
       "text": [
        "<matplotlib.figure.Figure at 0x10746ed90>"
       ]
      },
      {
       "name": "stdout",
       "output_type": "stream",
       "stream": "stdout",
       "text": [
        "Press Enter to continue...\n"
       ]
      },
      {
       "output_type": "stream",
       "stream": "stdout",
       "text": [
        "12500.0 400.0\n"
       ]
      },
      {
       "metadata": {},
       "output_type": "display_data",
       "png": "[encoded data removed]",
       "text": [
        "<matplotlib.figure.Figure at 0x107455f90>"
       ]
      },
      {
       "name": "stdout",
       "output_type": "stream",
       "stream": "stdout",
       "text": [
        "Press Enter to continue...\n"
       ]
      },
      {
       "output_type": "stream",
       "stream": "stdout",
       "text": [
        "15000.0 400.0\n"
       ]
      },
      {
       "metadata": {},
       "output_type": "display_data",
       "png": "[encoded data removed]",
       "text": [
        "<matplotlib.figure.Figure at 0x106fee690>"
       ]
      },
      {
       "name": "stdout",
       "output_type": "stream",
       "stream": "stdout",
       "text": [
        "Press Enter to continue...\n"
       ]
      }
     ],
     "prompt_number": 6
    },
    {
     "cell_type": "markdown",
     "metadata": {},
     "source": [
      "There may be a problem with the MgO run for T = 5000 K at 50 GPa"
     ]
    },
    {
     "cell_type": "code",
     "collapsed": false,
     "input": [
      "# Calculate -TS for each tdi entry\n",
      "F = tdi.F_dft.tolist()\n",
      "U = tdi.U_dft.tolist()\n",
      "minusTS = [ ( f[0]-u[0],np.abs(f[1])+np.abs(u[1]) ) for f,u in zip(F,U) ]\n",
      "minusTS\n",
      "\n",
      "tdi['minusTS'] = minusTS\n",
      "#tdi['minusTS']"
     ],
     "language": "python",
     "metadata": {},
     "outputs": [],
     "prompt_number": 30
    },
    {
     "cell_type": "code",
     "collapsed": false,
     "input": [
      "# Group tdi results by \n",
      "a = tdi.groupby(['P_target','temp'])\n",
      "\n",
      "conds = a.groups\n",
      "conds"
     ],
     "language": "python",
     "metadata": {},
     "outputs": [
      {
       "metadata": {},
       "output_type": "pyout",
       "prompt_number": 52,
       "text": [
        "{(50.0, 5000.0): ['lFe289', 'lMgO257', 'lFeMgO368'],\n",
        " (50.0, 7500.0): ['lFe279', 'lMgO227', 'lFeMgO388'],\n",
        " (50.0, 10000.0): ['lFe254', 'lMgO232', 'lFeMgO353'],\n",
        " (100.0, 8000.0): ['lFe259', 'lMgO237', 'lFeMgO393'],\n",
        " (100.0, 10000.0): ['lFe264', 'lMgO262', 'lFeMgO373'],\n",
        " (100.0, 15000.0): ['lFe284', 'lFeMgO358'],\n",
        " (400.0, 10000.0): ['lFe269', 'lFeMgO363'],\n",
        " (400.0, 12500.0): ['lFe274', 'lMgO242', 'lFeMgO378'],\n",
        " (400.0, 15000.0): ['lFe294', 'lMgO247', 'lFeMgO383']}"
       ]
      }
     ],
     "prompt_number": 52
    },
    {
     "cell_type": "code",
     "collapsed": false,
     "input": [
      "keys = conds.keys()\n",
      "key = keys[4]\n",
      "cond = tdi.loc[conds[key]]\n",
      "cond"
     ],
     "language": "python",
     "metadata": {},
     "outputs": [
      {
       "html": [
        "<div style=\"max-height:1000px;max-width:1500px;overflow:auto;\">\n",
        "<table border=\"1\" class=\"dataframe\">\n",
        "  <thead>\n",
        "    <tr style=\"text-align: right;\">\n",
        "      <th></th>\n",
        "      <th>dft_id</th>\n",
        "      <th>system</th>\n",
        "      <th>temp</th>\n",
        "      <th>volume</th>\n",
        "      <th>dft_to_cl_ids</th>\n",
        "      <th>P_target</th>\n",
        "      <th>cmc_id</th>\n",
        "      <th>num_lambda</th>\n",
        "      <th>lambdas</th>\n",
        "      <th>dVcell</th>\n",
        "      <th>dV_var</th>\n",
        "      <th>dV_var_eV</th>\n",
        "      <th>F_cl_dft</th>\n",
        "      <th>F_dft</th>\n",
        "      <th>P_targetV</th>\n",
        "      <th>U_dft</th>\n",
        "      <th>G_dft</th>\n",
        "      <th>result_file</th>\n",
        "      <th>minusTS</th>\n",
        "    </tr>\n",
        "  </thead>\n",
        "  <tbody>\n",
        "    <tr>\n",
        "      <th>lFe254</th>\n",
        "      <td>    lFe254</td>\n",
        "      <td>        Fe32</td>\n",
        "      <td> 10000</td>\n",
        "      <td> 393.765521</td>\n",
        "      <td>          [lFe254, lFe255, lFe256, lFe257, lFe258]</td>\n",
        "      <td> 50</td>\n",
        "      <td>    lFe299</td>\n",
        "      <td> 5</td>\n",
        "      <td> [0.0, 0.25, 0.5, 0.75, 1.0]</td>\n",
        "      <td> [(-12.691186, 0.002882), (-12.69465, 0.00186),...</td>\n",
        "      <td> [0.018921, 0.01598, 0.013987, 0.016387, 0.014012]</td>\n",
        "      <td> [0.515, 0.435, 0.381, 0.446, 0.381]</td>\n",
        "      <td>   (-12.69698, 0.001043858)</td>\n",
        "      <td>  (-24.260484, 0.001043858)</td>\n",
        "      <td> (4.515925, 0.0)</td>\n",
        "      <td>  (-5.219761, 0.00901)</td>\n",
        "      <td> (-19.744559, 0.001044)</td>\n",
        "      <td> /u/smwahl/dat/tdi_20131101-144341.dat</td>\n",
        "      <td>  (-19.040723, 0.010053858)</td>\n",
        "    </tr>\n",
        "    <tr>\n",
        "      <th>lMgO232</th>\n",
        "      <td>   lMgO232</td>\n",
        "      <td>     Mg32O32</td>\n",
        "      <td> 10000</td>\n",
        "      <td> 701.366512</td>\n",
        "      <td>     [lMgO232, lMgO233, lMgO234, lMgO235, lMgO236]</td>\n",
        "      <td> 50</td>\n",
        "      <td>   lMgO268</td>\n",
        "      <td> 5</td>\n",
        "      <td> [0.0, 0.25, 0.5, 0.75, 1.0]</td>\n",
        "      <td> [(-11.570246, 0.011455), (-11.582972, 0.009849...</td>\n",
        "      <td> [0.065817, 0.058286, 0.046869, 0.052587, 0.04328]</td>\n",
        "      <td> [1.791, 1.586, 1.275, 1.431, 1.178]</td>\n",
        "      <td> (-11.603985, 0.0038973554)</td>\n",
        "      <td>  (-34.78861, 0.0038973554)</td>\n",
        "      <td> (8.043666, 0.0)</td>\n",
        "      <td> (-6.002044, 0.043919)</td>\n",
        "      <td> (-26.744944, 0.003897)</td>\n",
        "      <td> /u/smwahl/dat/tdi_20131101-144341.dat</td>\n",
        "      <td> (-28.786566, 0.0478163554)</td>\n",
        "    </tr>\n",
        "    <tr>\n",
        "      <th>lFeMgO353</th>\n",
        "      <td> lFeMgO353</td>\n",
        "      <td> O24Fe24Mg24</td>\n",
        "      <td> 10000</td>\n",
        "      <td> 842.962639</td>\n",
        "      <td> [lFeMgO353, lFeMgO354, lFeMgO355, lFeMgO356, l...</td>\n",
        "      <td> 50</td>\n",
        "      <td> lFeMgO398</td>\n",
        "      <td> 5</td>\n",
        "      <td> [0.0, 0.25, 0.5, 0.75, 1.0]</td>\n",
        "      <td> [(-17.388192, 0.008665), (-17.410459, 0.009061...</td>\n",
        "      <td> [0.055391, 0.048807, 0.062951, 0.038808, 0.05759]</td>\n",
        "      <td> [1.507, 1.328, 1.713, 1.056, 1.567]</td>\n",
        "      <td> (-17.430295, 0.0046142433)</td>\n",
        "      <td> (-45.547829, 0.0046142433)</td>\n",
        "      <td>  (9.66757, 0.0)</td>\n",
        "      <td>  (-7.231579, 0.04537)</td>\n",
        "      <td> (-35.880259, 0.004614)</td>\n",
        "      <td> /u/smwahl/dat/tdi_20131101-144341.dat</td>\n",
        "      <td>  (-38.31625, 0.0499842433)</td>\n",
        "    </tr>\n",
        "  </tbody>\n",
        "</table>\n",
        "</div>"
       ],
       "metadata": {},
       "output_type": "pyout",
       "prompt_number": 65,
       "text": [
        "              dft_id       system   temp      volume  \\\n",
        "lFe254        lFe254         Fe32  10000  393.765521   \n",
        "lMgO232      lMgO232      Mg32O32  10000  701.366512   \n",
        "lFeMgO353  lFeMgO353  O24Fe24Mg24  10000  842.962639   \n",
        "\n",
        "                                               dft_to_cl_ids  P_target  \\\n",
        "lFe254              [lFe254, lFe255, lFe256, lFe257, lFe258]        50   \n",
        "lMgO232        [lMgO232, lMgO233, lMgO234, lMgO235, lMgO236]        50   \n",
        "lFeMgO353  [lFeMgO353, lFeMgO354, lFeMgO355, lFeMgO356, l...        50   \n",
        "\n",
        "              cmc_id  num_lambda                      lambdas  \\\n",
        "lFe254        lFe299           5  [0.0, 0.25, 0.5, 0.75, 1.0]   \n",
        "lMgO232      lMgO268           5  [0.0, 0.25, 0.5, 0.75, 1.0]   \n",
        "lFeMgO353  lFeMgO398           5  [0.0, 0.25, 0.5, 0.75, 1.0]   \n",
        "\n",
        "                                                      dVcell  \\\n",
        "lFe254     [(-12.691186, 0.002882), (-12.69465, 0.00186),...   \n",
        "lMgO232    [(-11.570246, 0.011455), (-11.582972, 0.009849...   \n",
        "lFeMgO353  [(-17.388192, 0.008665), (-17.410459, 0.009061...   \n",
        "\n",
        "                                                      dV_var  \\\n",
        "lFe254     [0.018921, 0.01598, 0.013987, 0.016387, 0.014012]   \n",
        "lMgO232    [0.065817, 0.058286, 0.046869, 0.052587, 0.04328]   \n",
        "lFeMgO353  [0.055391, 0.048807, 0.062951, 0.038808, 0.05759]   \n",
        "\n",
        "                                     dV_var_eV                    F_cl_dft  \\\n",
        "lFe254     [0.515, 0.435, 0.381, 0.446, 0.381]    (-12.69698, 0.001043858)   \n",
        "lMgO232    [1.791, 1.586, 1.275, 1.431, 1.178]  (-11.603985, 0.0038973554)   \n",
        "lFeMgO353  [1.507, 1.328, 1.713, 1.056, 1.567]  (-17.430295, 0.0046142433)   \n",
        "\n",
        "                                F_dft        P_targetV                  U_dft  \\\n",
        "lFe254      (-24.260484, 0.001043858)  (4.515925, 0.0)   (-5.219761, 0.00901)   \n",
        "lMgO232     (-34.78861, 0.0038973554)  (8.043666, 0.0)  (-6.002044, 0.043919)   \n",
        "lFeMgO353  (-45.547829, 0.0046142433)   (9.66757, 0.0)   (-7.231579, 0.04537)   \n",
        "\n",
        "                            G_dft                            result_file  \\\n",
        "lFe254     (-19.744559, 0.001044)  /u/smwahl/dat/tdi_20131101-144341.dat   \n",
        "lMgO232    (-26.744944, 0.003897)  /u/smwahl/dat/tdi_20131101-144341.dat   \n",
        "lFeMgO353  (-35.880259, 0.004614)  /u/smwahl/dat/tdi_20131101-144341.dat   \n",
        "\n",
        "                              minusTS  \n",
        "lFe254      (-19.040723, 0.010053858)  \n",
        "lMgO232    (-28.786566, 0.0478163554)  \n",
        "lFeMgO353   (-38.31625, 0.0499842433)  "
       ]
      }
     ],
     "prompt_number": 65
    },
    {
     "cell_type": "code",
     "collapsed": false,
     "input": [
      "# factors to multiply each system by\n",
      "mults = {'Fe32':-1/32.,'Mg32O32':-1/32.,'O24Fe24Mg24':1/24.}\n",
      "\n",
      "keys = conds.keys()\n"
     ],
     "language": "python",
     "metadata": {},
     "outputs": [],
     "prompt_number": 62
    },
    {
     "cell_type": "code",
     "collapsed": false,
     "input": [
      "# sum and store reaction energies\n",
      "\n",
      "rxn_list = []\n",
      "\n",
      "for key in keys:\n",
      "    cond = tdi.loc[conds[key]]\n",
      "    \n",
      "    energies_list = []\n",
      "    for idx,row in cond.iterrows():\n",
      "        mult = mults[row['system']]\n",
      "        arr = np.array(row[['F_dft','P_targetV','U_dft','G_dft','minusTS']].tolist())\n",
      "        energies = arr * mult\n",
      "        energies[:,1] = np.abs(energies[:,1]) # all errors positive\n",
      "        energies_list.append(energies)\n",
      "\n",
      "    rxn_energies = np.zeros([5,2])    \n",
      "    for arr in energies_list:\n",
      "        rxn_energies += arr\n",
      "\n",
      "    rxn_energies_eV = rxn_energies*Ha_to_eV\n",
      "    dft_ids = cond['dft_id'].tolist()\n",
      "    \n",
      "    if(cond.shape[0] == 3): # check that all systems exist\n",
      "        rxn_list.append( [key, key[0], key[1], dft_ids] + [ rxn_energies[i,:] for i in range(5) ] +  \\\n",
      "            [ rxn_energies_eV[i,:] for i in range(5) ] )\n",
      "    else: \n",
      "        rxn_list.append( [key, key[0], key[1], dft_ids] + [ None for i in range(10) ] )\n",
      "        \n",
      "rxn = pd.DataFrame(rxn_list,columns=['cond','P_target','temp','dft_ids','F_dft','P_targetV','U_dft','G_dft','minusTS', \\\n",
      "                             'F_dft_eV','P_targetV_eV','U_dft_eV','G_dft_eV','minusTS_eV'] )"
     ],
     "language": "python",
     "metadata": {},
     "outputs": [],
     "prompt_number": 74
    },
    {
     "cell_type": "code",
     "collapsed": false,
     "input": [
      "rxn"
     ],
     "language": "python",
     "metadata": {},
     "outputs": [
      {
       "html": [
        "<div style=\"max-height:1000px;max-width:1500px;overflow:auto;\">\n",
        "<table border=\"1\" class=\"dataframe\">\n",
        "  <thead>\n",
        "    <tr style=\"text-align: right;\">\n",
        "      <th></th>\n",
        "      <th>cond</th>\n",
        "      <th>P_target</th>\n",
        "      <th>temp</th>\n",
        "      <th>dft_ids</th>\n",
        "      <th>F_dft</th>\n",
        "      <th>P_targetV</th>\n",
        "      <th>U_dft</th>\n",
        "      <th>G_dft</th>\n",
        "      <th>minusTS</th>\n",
        "      <th>F_dft_eV</th>\n",
        "      <th>P_targetV_eV</th>\n",
        "      <th>U_dft_eV</th>\n",
        "      <th>G_dft_eV</th>\n",
        "      <th>minusTS_eV</th>\n",
        "    </tr>\n",
        "  </thead>\n",
        "  <tbody>\n",
        "    <tr>\n",
        "      <th>0</th>\n",
        "      <td> (400.0, 10000.0)</td>\n",
        "      <td> 400</td>\n",
        "      <td> 10000</td>\n",
        "      <td>          [lFe269, lFeMgO363]</td>\n",
        "      <td>                                  None</td>\n",
        "      <td>                    None</td>\n",
        "      <td>                                None</td>\n",
        "      <td>                                  None</td>\n",
        "      <td>                                 None</td>\n",
        "      <td>                                None</td>\n",
        "      <td>                  None</td>\n",
        "      <td>                             None</td>\n",
        "      <td>                               None</td>\n",
        "      <td>                              None</td>\n",
        "    </tr>\n",
        "    <tr>\n",
        "      <th>1</th>\n",
        "      <td>   (50.0, 7500.0)</td>\n",
        "      <td>  50</td>\n",
        "      <td>  7500</td>\n",
        "      <td> [lFe279, lMgO227, lFeMgO388]</td>\n",
        "      <td>   [-0.02933384375, 0.000440548727812]</td>\n",
        "      <td>    [0.01338359375, 0.0]</td>\n",
        "      <td> [0.0623916145833, 0.00358272916667]</td>\n",
        "      <td>      [-0.01595025, 0.000440552083333]</td>\n",
        "      <td> [-0.0917254583333, 0.00402327789448]</td>\n",
        "      <td>  [-0.798214482214, 0.0119879405392]</td>\n",
        "      <td> [0.364186106886, 0.0]</td>\n",
        "      <td> [1.69776217374, 0.0974910186014]</td>\n",
        "      <td> [-0.434028375328, 0.0119880318475]</td>\n",
        "      <td>  [-2.49597665595, 0.109478959141]</td>\n",
        "    </tr>\n",
        "    <tr>\n",
        "      <th>2</th>\n",
        "      <td> (400.0, 12500.0)</td>\n",
        "      <td> 400</td>\n",
        "      <td> 12500</td>\n",
        "      <td> [lFe274, lMgO242, lFeMgO378]</td>\n",
        "      <td> [-0.0491408854167, 0.000475334432292]</td>\n",
        "      <td>     [0.0094328125, 0.0]</td>\n",
        "      <td> [0.0784408020833, 0.00437405208333]</td>\n",
        "      <td> [-0.0397080729167, 0.000475333333333]</td>\n",
        "      <td>    [-0.1275816875, 0.00484938651562]</td>\n",
        "      <td>   [-1.33719149603, 0.0129345076964]</td>\n",
        "      <td> [0.256679881766, 0.0]</td>\n",
        "      <td>   [2.13448277536, 0.11902401024]</td>\n",
        "      <td>  [-1.08051161426, 0.0129344777922]</td>\n",
        "      <td>  [-3.47167427139, 0.131958517936]</td>\n",
        "    </tr>\n",
        "    <tr>\n",
        "      <th>3</th>\n",
        "      <td> (100.0, 10000.0)</td>\n",
        "      <td> 100</td>\n",
        "      <td> 10000</td>\n",
        "      <td> [lFe264, lMgO262, lFeMgO373]</td>\n",
        "      <td> [-0.0448244895833, 0.000391348460208]</td>\n",
        "      <td>    [0.01059134375, 0.0]</td>\n",
        "      <td> [0.0603834895833, 0.00488495833333]</td>\n",
        "      <td> [-0.0342331458333, 0.000391333333333]</td>\n",
        "      <td>  [-0.105207979167, 0.00527630679354]</td>\n",
        "      <td>   [-1.21973639214, 0.0106491331717]</td>\n",
        "      <td> [0.288205120318, 0.0]</td>\n",
        "      <td>  [1.64311831354, 0.132926476322]</td>\n",
        "      <td> [-0.931531271823, 0.0106487215485]</td>\n",
        "      <td>  [-2.86285470568, 0.143575609494]</td>\n",
        "    </tr>\n",
        "    <tr>\n",
        "      <th>4</th>\n",
        "      <td>  (50.0, 10000.0)</td>\n",
        "      <td>  50</td>\n",
        "      <td> 10000</td>\n",
        "      <td> [lFe254, lMgO232, lFeMgO353]</td>\n",
        "      <td>  [-0.0525420208333, 0.00034667305625]</td>\n",
        "      <td>  [0.0103281979167, 0.0]</td>\n",
        "      <td> [0.0493656145833, 0.00354444791667]</td>\n",
        "      <td>     [-0.0422138229167, 0.00034665625]</td>\n",
        "      <td>  [-0.101907635417, 0.00389112097292]</td>\n",
        "      <td>  [-1.42974109739, 0.00943345360568]</td>\n",
        "      <td> [0.281044558037, 0.0]</td>\n",
        "      <td> [1.34330668765, 0.0964493328132]</td>\n",
        "      <td> [-1.14869653936, 0.00943299628436]</td>\n",
        "      <td>  [-2.77304778504, 0.105882786419]</td>\n",
        "    </tr>\n",
        "    <tr>\n",
        "      <th>5</th>\n",
        "      <td> (100.0, 15000.0)</td>\n",
        "      <td> 100</td>\n",
        "      <td> 15000</td>\n",
        "      <td>          [lFe284, lFeMgO358]</td>\n",
        "      <td>                                  None</td>\n",
        "      <td>                    None</td>\n",
        "      <td>                                None</td>\n",
        "      <td>                                  None</td>\n",
        "      <td>                                 None</td>\n",
        "      <td>                                None</td>\n",
        "      <td>                  None</td>\n",
        "      <td>                             None</td>\n",
        "      <td>                               None</td>\n",
        "      <td>                              None</td>\n",
        "    </tr>\n",
        "    <tr>\n",
        "      <th>6</th>\n",
        "      <td>   (50.0, 5000.0)</td>\n",
        "      <td>  50</td>\n",
        "      <td>  5000</td>\n",
        "      <td> [lFe289, lMgO257, lFeMgO368]</td>\n",
        "      <td>     [-0.002919125, 0.000550259305208]</td>\n",
        "      <td>    [0.01458128125, 0.0]</td>\n",
        "      <td> [0.0510973854167, 0.00287277083333]</td>\n",
        "      <td>    [0.01166215625, 0.000550260416667]</td>\n",
        "      <td> [-0.0540165104167, 0.00342303013854]</td>\n",
        "      <td> [-0.0794334308947, 0.0149733171736]</td>\n",
        "      <td> [0.396776841186, 0.0]</td>\n",
        "      <td> [1.39043056854, 0.0781720698723]</td>\n",
        "      <td>  [0.317343410292, 0.0149733474179]</td>\n",
        "      <td> [-1.46986399944, 0.0931453870459]</td>\n",
        "    </tr>\n",
        "    <tr>\n",
        "      <th>7</th>\n",
        "      <td> (400.0, 15000.0)</td>\n",
        "      <td> 400</td>\n",
        "      <td> 15000</td>\n",
        "      <td> [lFe294, lMgO247, lFeMgO383]</td>\n",
        "      <td> [-0.0743249583333, 0.000345216264583]</td>\n",
        "      <td> [0.00897566666667, 0.0]</td>\n",
        "      <td>    [0.0704172291667, 0.00647259375]</td>\n",
        "      <td>        [-0.0653492916667, 0.00034525]</td>\n",
        "      <td>    [-0.1447421875, 0.00681781001458]</td>\n",
        "      <td>  [-2.02248497119, 0.00939381228845]</td>\n",
        "      <td> [0.244240311018, 0.0]</td>\n",
        "      <td>  [1.91615025284, 0.176128233066]</td>\n",
        "      <td> [-1.77824466017, 0.00939473027582]</td>\n",
        "      <td>  [-3.93863522402, 0.185522045355]</td>\n",
        "    </tr>\n",
        "    <tr>\n",
        "      <th>8</th>\n",
        "      <td>  (100.0, 8000.0)</td>\n",
        "      <td> 100</td>\n",
        "      <td>  8000</td>\n",
        "      <td> [lFe259, lMgO237, lFeMgO393]</td>\n",
        "      <td> [-0.0224331979167, 0.000409193377083]</td>\n",
        "      <td>  [0.0103092708333, 0.0]</td>\n",
        "      <td>    [0.0662544375, 0.00328810416667]</td>\n",
        "      <td> [-0.0121239270833, 0.000409208333333]</td>\n",
        "      <td> [-0.0886876354167, 0.00369729754375]</td>\n",
        "      <td>  [-0.610438359598, 0.0111347180546]</td>\n",
        "      <td> [0.280529525907, 0.0]</td>\n",
        "      <td> [1.80287493089, 0.0894738646332]</td>\n",
        "      <td>  [-0.32990883369, 0.0111351250349]</td>\n",
        "      <td>  [-2.41331329048, 0.100608582688]</td>\n",
        "    </tr>\n",
        "  </tbody>\n",
        "</table>\n",
        "</div>"
       ],
       "metadata": {},
       "output_type": "pyout",
       "prompt_number": 75,
       "text": [
        "               cond  P_target   temp                       dft_ids  \\\n",
        "0  (400.0, 10000.0)       400  10000           [lFe269, lFeMgO363]   \n",
        "1    (50.0, 7500.0)        50   7500  [lFe279, lMgO227, lFeMgO388]   \n",
        "2  (400.0, 12500.0)       400  12500  [lFe274, lMgO242, lFeMgO378]   \n",
        "3  (100.0, 10000.0)       100  10000  [lFe264, lMgO262, lFeMgO373]   \n",
        "4   (50.0, 10000.0)        50  10000  [lFe254, lMgO232, lFeMgO353]   \n",
        "5  (100.0, 15000.0)       100  15000           [lFe284, lFeMgO358]   \n",
        "6    (50.0, 5000.0)        50   5000  [lFe289, lMgO257, lFeMgO368]   \n",
        "7  (400.0, 15000.0)       400  15000  [lFe294, lMgO247, lFeMgO383]   \n",
        "8   (100.0, 8000.0)       100   8000  [lFe259, lMgO237, lFeMgO393]   \n",
        "\n",
        "                                   F_dft                P_targetV  \\\n",
        "0                                   None                     None   \n",
        "1    [-0.02933384375, 0.000440548727812]     [0.01338359375, 0.0]   \n",
        "2  [-0.0491408854167, 0.000475334432292]      [0.0094328125, 0.0]   \n",
        "3  [-0.0448244895833, 0.000391348460208]     [0.01059134375, 0.0]   \n",
        "4   [-0.0525420208333, 0.00034667305625]   [0.0103281979167, 0.0]   \n",
        "5                                   None                     None   \n",
        "6      [-0.002919125, 0.000550259305208]     [0.01458128125, 0.0]   \n",
        "7  [-0.0743249583333, 0.000345216264583]  [0.00897566666667, 0.0]   \n",
        "8  [-0.0224331979167, 0.000409193377083]   [0.0103092708333, 0.0]   \n",
        "\n",
        "                                 U_dft                                  G_dft  \\\n",
        "0                                 None                                   None   \n",
        "1  [0.0623916145833, 0.00358272916667]       [-0.01595025, 0.000440552083333]   \n",
        "2  [0.0784408020833, 0.00437405208333]  [-0.0397080729167, 0.000475333333333]   \n",
        "3  [0.0603834895833, 0.00488495833333]  [-0.0342331458333, 0.000391333333333]   \n",
        "4  [0.0493656145833, 0.00354444791667]      [-0.0422138229167, 0.00034665625]   \n",
        "5                                 None                                   None   \n",
        "6  [0.0510973854167, 0.00287277083333]     [0.01166215625, 0.000550260416667]   \n",
        "7     [0.0704172291667, 0.00647259375]         [-0.0653492916667, 0.00034525]   \n",
        "8     [0.0662544375, 0.00328810416667]  [-0.0121239270833, 0.000409208333333]   \n",
        "\n",
        "                                minusTS                             F_dft_eV  \\\n",
        "0                                  None                                 None   \n",
        "1  [-0.0917254583333, 0.00402327789448]   [-0.798214482214, 0.0119879405392]   \n",
        "2     [-0.1275816875, 0.00484938651562]    [-1.33719149603, 0.0129345076964]   \n",
        "3   [-0.105207979167, 0.00527630679354]    [-1.21973639214, 0.0106491331717]   \n",
        "4   [-0.101907635417, 0.00389112097292]   [-1.42974109739, 0.00943345360568]   \n",
        "5                                  None                                 None   \n",
        "6  [-0.0540165104167, 0.00342303013854]  [-0.0794334308947, 0.0149733171736]   \n",
        "7     [-0.1447421875, 0.00681781001458]   [-2.02248497119, 0.00939381228845]   \n",
        "8  [-0.0886876354167, 0.00369729754375]   [-0.610438359598, 0.0111347180546]   \n",
        "\n",
        "            P_targetV_eV                          U_dft_eV  \\\n",
        "0                   None                              None   \n",
        "1  [0.364186106886, 0.0]  [1.69776217374, 0.0974910186014]   \n",
        "2  [0.256679881766, 0.0]    [2.13448277536, 0.11902401024]   \n",
        "3  [0.288205120318, 0.0]   [1.64311831354, 0.132926476322]   \n",
        "4  [0.281044558037, 0.0]  [1.34330668765, 0.0964493328132]   \n",
        "5                   None                              None   \n",
        "6  [0.396776841186, 0.0]  [1.39043056854, 0.0781720698723]   \n",
        "7  [0.244240311018, 0.0]   [1.91615025284, 0.176128233066]   \n",
        "8  [0.280529525907, 0.0]  [1.80287493089, 0.0894738646332]   \n",
        "\n",
        "                             G_dft_eV                         minusTS_eV  \n",
        "0                                None                               None  \n",
        "1  [-0.434028375328, 0.0119880318475]   [-2.49597665595, 0.109478959141]  \n",
        "2   [-1.08051161426, 0.0129344777922]   [-3.47167427139, 0.131958517936]  \n",
        "3  [-0.931531271823, 0.0106487215485]   [-2.86285470568, 0.143575609494]  \n",
        "4  [-1.14869653936, 0.00943299628436]   [-2.77304778504, 0.105882786419]  \n",
        "5                                None                               None  \n",
        "6   [0.317343410292, 0.0149733474179]  [-1.46986399944, 0.0931453870459]  \n",
        "7  [-1.77824466017, 0.00939473027582]   [-3.93863522402, 0.185522045355]  \n",
        "8   [-0.32990883369, 0.0111351250349]   [-2.41331329048, 0.100608582688]  "
       ]
      }
     ],
     "prompt_number": 75
    },
    {
     "cell_type": "code",
     "collapsed": false,
     "input": [
      "rxn_list[0] + rxn_list[1] + rxn_list[2]"
     ],
     "language": "python",
     "metadata": {},
     "outputs": [
      {
       "metadata": {},
       "output_type": "pyout",
       "prompt_number": 35,
       "text": [
        "array([[-0.00291913,  0.00055026],\n",
        "       [ 0.01458128,  0.        ],\n",
        "       [ 0.05109739,  0.00287277],\n",
        "       [ 0.01166216,  0.00055026],\n",
        "       [-0.05401651,  0.00342303]])"
       ]
      }
     ],
     "prompt_number": 35
    },
    {
     "cell_type": "code",
     "collapsed": false,
     "input": [],
     "language": "python",
     "metadata": {},
     "outputs": [
      {
       "metadata": {},
       "output_type": "pyout",
       "prompt_number": 36,
       "text": [
        "-0.05401652"
       ]
      }
     ],
     "prompt_number": 36
    },
    {
     "cell_type": "code",
     "collapsed": false,
     "input": [],
     "language": "python",
     "metadata": {},
     "outputs": []
    }
   ],
   "metadata": {}
  }
 ]
}