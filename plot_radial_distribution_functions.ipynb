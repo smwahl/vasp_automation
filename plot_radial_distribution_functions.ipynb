{
 "metadata": {
  "name": "",
  "signature": "sha256:1fa8f8122752a64b4045552d998b1be88f5b589bb56f8a8f8fa3a07f4b729168"
 },
 "nbformat": 3,
 "nbformat_minor": 0,
 "worksheets": [
  {
   "cells": [
    {
     "cell_type": "code",
     "collapsed": false,
     "input": [
      "import numpy as np\n",
      "import pandas as pd\n",
      "import scipy as sp\n",
      "import os,sys\n",
      "\n",
      "from pymatgen.io.vaspio import Vasprun, Poscar, Chgcar, VaspInput,vasp_input,vasp_output\n",
      "\n",
      "rdf_dir ='/Users/swahl/dat/pleiades/rdf/'"
     ],
     "language": "python",
     "metadata": {},
     "outputs": [],
     "prompt_number": 33
    },
    {
     "cell_type": "code",
     "collapsed": false,
     "input": [
      "# enter runs and locate files\n",
      "runlist=\"lFeMgO368 lFeMgO570 lFeMgO389 lFeMgO353 lFeMgO549 lFeMgO554  lFeMgO590 lFeMgO591\"\n",
      "fname=\"gnu_gofr.dat\"\n",
      "runs=runlist.split()\n",
      "dirs = [os.path.join(rdf_dir,run) for run in runs]\n",
      "files = [os.path.join(rdf_dir,run,fname) for run in runs]\n",
      "#files "
     ],
     "language": "python",
     "metadata": {},
     "outputs": [],
     "prompt_number": 28
    },
    {
     "cell_type": "code",
     "collapsed": false,
     "input": [
      "# rdf file details\n",
      "varList = [\"r\",\"g(r) O-O\",\"g(r) O-Fe\",\"g(r) O-Mg\",\"g(r) Fe-Fe\",\"g(r) Fe-Mg\",\"g(r) Mg-Mg\"]"
     ],
     "language": "python",
     "metadata": {},
     "outputs": [],
     "prompt_number": 29
    },
    {
     "cell_type": "code",
     "collapsed": false,
     "input": [
      "# Store relavent information in a list of dictionaries accessed by 'rdf' -> the rdf dataframe, 'info' -> pymatgen vaspInfo\n",
      "runInfos = []\n",
      "for i,run in enumerate(runs):\n",
      "    rdf_table = pd.read_csv(files[i],delim_whitespace=True,header=None)\n",
      "    rdf_table.columns = varList\n",
      "    #rdf_table\n",
      "    vaspInfo = VaspInput.from_directory(dirs[i])\n",
      "    \n",
      "    poscar = vaspInfo['POSCAR']\n",
      "    incar = vaspInfo['INCAR']\n",
      "    potcar = vinfo['POTCAR']\n",
      "    \n",
      "    system = poscar.structure.composition.formula\n",
      "    temp = incar['TEBEG']\n",
      "    \n",
      "    runinfo = {'rdf':rdf_table,'info':vaspInfo,'system':system,'temp':temp}\n",
      "    runInfos.append(runinfo)"
     ],
     "language": "python",
     "metadata": {},
     "outputs": [],
     "prompt_number": 54
    },
    {
     "cell_type": "code",
     "collapsed": false,
     "input": [
      "runInfos[0]['system']"
     ],
     "language": "python",
     "metadata": {},
     "outputs": [
      {
       "metadata": {},
       "output_type": "pyout",
       "prompt_number": 56,
       "text": [
        "'Mg24 Fe24 O24'"
       ]
      }
     ],
     "prompt_number": 56
    },
    {
     "cell_type": "code",
     "collapsed": false,
     "input": [
      "vary_temp = [run for run in runInfos if run['system'] == 'Mg24 Fe24 O24']\n",
      "vary_system = [run for run in runInfos if run['temp'] == 5000]"
     ],
     "language": "python",
     "metadata": {},
     "outputs": [],
     "prompt_number": 58
    },
    {
     "cell_type": "code",
     "collapsed": false,
     "input": [
      "# Plotting stuff\n",
      "\n",
      "import matplotlib\n",
      "matplotlib.use('MacOSX')\n",
      "%matplotlib \n",
      "import matplotlib.pyplot as plt\n",
      "\n",
      "fig_size = [800/72.27 ,700/72.27]\n",
      "params = {'backend': 'ps', 'axes.labelsize': 28, 'text.fontsize': 28, 'legend.fontsize': 22,'title.fontsize':28,\n",
      "          'xtick.labelsize': 20, 'ytick.labelsize': 20, \n",
      "          'xtick.major.size': 10,'ytick.major.size': 10,\n",
      "          'xtick.minor.size': 6,'ytick.minor.size': 6,\n",
      "          'xtick.major.width': 2,'ytick.major.width': 2,\n",
      "          'xtick.minor.width': 2,'ytick.minor.width': 2,\n",
      "          'axes.linewidth': 2, 'xaxis.labelpad' : 50,\n",
      "          'text.usetex': False, 'figure.figsize': fig_size,\n",
      "          'figure.subplot.bottom': 0.100,'figure.subplot.top': 0.980,'figure.subplot.left': 0.130,'figure.subplot.right': 0.950}\n",
      "plt.rcParams.update(params)\n",
      "\n",
      "# use latex\n",
      "plt.rc('text', usetex=False)\n",
      "#plt.rc('font',**{'family':'sans-serif','sans-serif':['Helvetica']})\n",
      "plt.rc('font',family='sans-serif')\n"
     ],
     "language": "python",
     "metadata": {},
     "outputs": [
      {
       "output_type": "stream",
       "stream": "stdout",
       "text": [
        "Using matplotlib backend: MacOSX\n"
       ]
      }
     ],
     "prompt_number": 146
    },
    {
     "cell_type": "code",
     "collapsed": false,
     "input": [
      "def plotRDFs(run,cols,**kwargs):\n",
      "    fig = plt.figure()\n",
      "    ax = fig.add_subplot(1,1,1)\n",
      "    \n",
      "    ax.axhline(1.0,color='k',linewidth=2)\n",
      "\n",
      "    r = run['rdf']['r']\n",
      "    for col in cols:\n",
      "        rdf = run['rdf'][col]\n",
      "        label = str(col)\n",
      "        ax.plot(r,rdf,label=label,**kwargs)\n",
      "        \n",
      "    ax.set_xlabel('r (Angstrom)')\n",
      "    ax.set_ylabel('g(r)')\n",
      "    legend = ax.legend(loc='upper right')\n",
      "    return fig   \n",
      "\n",
      "def compareRDFs(runs,col,labelField=None,**kwargs):\n",
      "    fig = plt.figure()\n",
      "    ax = fig.add_subplot(1,1,1)\n",
      "\n",
      "    #minorLocator   = plt.MultipleLocator(0.1)\n",
      "    #ax.yaxis.set_minor_locator(minorLocator)\n",
      "    #minorLocator   = plt.MultipleLocator(500)\n",
      "    #ax.xaxis.set_minor_locator(minorLocator)\n",
      "\n",
      "    ax.axhline(1.0,color='k',linewidth=2)\n",
      "    \n",
      "    for run in runs:\n",
      "        r = run['rdf']['r']\n",
      "        rdf = run['rdf'][col]\n",
      "        if labelField is None:\n",
      "           ax.plot(r,rdf,**kwargs)\n",
      "        else:\n",
      "            label = str(run[labelField])\n",
      "            ax.plot(r,rdf,label=label,**kwargs)\n",
      "        #ax.plot(r,rdf)\n",
      "        ax.set_xlabel('r (Angstrom)')\n",
      "        ax.set_ylabel('g(r)')\n",
      "    if not labelField is None:\n",
      "        legend = ax.legend(loc='upper right')\n",
      "        #ax.set_title(col+'for constant '+labelField)\n",
      "        #ax.set_title(col)\n",
      "    else:\n",
      "        #ax.set_title(col)\n",
      "        pass\n",
      "    return fig\n",
      "        "
     ],
     "language": "python",
     "metadata": {},
     "outputs": [],
     "prompt_number": 172
    },
    {
     "cell_type": "code",
     "collapsed": false,
     "input": [
      "# Plot Fe-Fe G(r)s\n",
      "fig1 = compareRDFs(vary_temp,'g(r) Fe-Fe',labelField='temp')\n",
      "fig2 = compareRDFs(vary_system,'g(r) Fe-Fe',labelField='system')"
     ],
     "language": "python",
     "metadata": {},
     "outputs": [],
     "prompt_number": 161
    },
    {
     "cell_type": "code",
     "collapsed": false,
     "input": [
      "# Plot Mg-O G(r)s\n",
      "fig3 = compareRDFs(vary_temp,'g(r) O-Mg',labelField='temp')\n",
      "fig4 = compareRDFs(vary_system,'g(r) O-Mg',labelField='system')"
     ],
     "language": "python",
     "metadata": {},
     "outputs": [],
     "prompt_number": 162
    },
    {
     "cell_type": "code",
     "collapsed": false,
     "input": [
      "# Plot Fe-Mg G(r)s\n",
      "fig5 = compareRDFs(vary_temp,'g(r) Fe-Mg',labelField='temp')\n",
      "fig6 = compareRDFs(vary_system,'g(r) Fe-Mg',labelField='system')"
     ],
     "language": "python",
     "metadata": {},
     "outputs": [],
     "prompt_number": 163
    },
    {
     "cell_type": "code",
     "collapsed": false,
     "input": [
      "# plot different element G(r)s for a single run\n",
      "fig7 = plotRDFs(runInfos[0],['g(r) Fe-Fe','g(r) O-Mg','g(r) Fe-Mg'])"
     ],
     "language": "python",
     "metadata": {},
     "outputs": [],
     "prompt_number": 173
    },
    {
     "cell_type": "code",
     "collapsed": false,
     "input": [
      "#runInfos[0]['rdf']"
     ],
     "language": "python",
     "metadata": {},
     "outputs": [],
     "prompt_number": 174
    }
   ],
   "metadata": {}
  }
 ]
}