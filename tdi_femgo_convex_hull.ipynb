{
 "metadata": {
  "name": "",
  "signature": "sha256:9356abf2117add43782704fe39b47b2a71c7211fb7e1806a6089612c5cda62f4"
 },
 "nbformat": 3,
 "nbformat_minor": 0,
 "worksheets": [
  {
   "cells": [
    {
     "cell_type": "markdown",
     "metadata": {},
     "source": [
      "Analysis and plotting of results stored in pandas dataframes"
     ]
    },
    {
     "cell_type": "code",
     "collapsed": true,
     "input": [
      "import numpy as np\n",
      "import pandas as pd\n",
      "import scipy as sp\n",
      "\n",
      "from pint import UnitRegistry\n",
      "ureg = UnitRegistry()\n",
      "Q_ = ureg.Quantity\n",
      "\n",
      "#Ha_to_eV = (ureg.hartree).ito(ureg.eV).magnitude\n",
      "ha = ureg.hartree\n",
      "ha.ito(ureg.eV)\n",
      "Ha_to_eV = ha.magnitude\n",
      "\n",
      "hak = ureg.hartree / ureg.kelvin\n",
      "hak.ito(ureg.boltzmann_constant)\n",
      "Ha_K_to_kb = hak.magnitude\n",
      "\n",
      "kb = ureg.boltzmann_constant.magnitude\n",
      "\n",
      "import matplotlib\n",
      "matplotlib.use('MacOSX')\n",
      "%matplotlib \n",
      "import matplotlib.pyplot as plt\n",
      "\n",
      "#Ha_to_eV = 2.721138385465e+01"
     ],
     "language": "python",
     "metadata": {},
     "outputs": [
      {
       "output_type": "stream",
       "stream": "stdout",
       "text": [
        "Using matplotlib backend: MacOSX\n"
       ]
      }
     ],
     "prompt_number": 86
    },
    {
     "cell_type": "code",
     "collapsed": true,
     "input": [
      "# Saved Table locations:\n",
      "\n",
      "#!ls /Users/swahl/dat/pleiades/tables\n",
      "\n",
      "#tab_num = '20140110-142950'\n",
      "#tab_num = '20140219-182020'\n",
      "tab_num = '20140327-154609'\n",
      "\n",
      "\n",
      "cmc_file = '/Users/swahl/dat/pleiades/tables/cmc_all_'+tab_num+'.df'\n",
      "dft_file = '/Users/swahl/dat/pleiades/tables/dft_all_'+tab_num+'.df'\n",
      "eos_file = '/Users/swahl/dat/pleiades/tables/dft_eos_all_'+tab_num+'.df'\n",
      "tdi_file = '/Users/swahl/dat/pleiades/tables/tdi_all_'+tab_num+'.df'"
     ],
     "language": "python",
     "metadata": {},
     "outputs": [],
     "prompt_number": 87
    },
    {
     "cell_type": "code",
     "collapsed": true,
     "input": [
      "# load files\n",
      "import pandas as pd\n",
      "cmc = pd.read_pickle(cmc_file)\n",
      "dft = pd.read_pickle(dft_file)\n",
      "eos = pd.read_pickle(eos_file)\n",
      "tdi = pd.read_pickle(tdi_file)"
     ],
     "language": "python",
     "metadata": {},
     "outputs": [],
     "prompt_number": 88
    },
    {
     "cell_type": "code",
     "collapsed": false,
     "input": [
      "# make tdi dataframes that are not in tuple form for easier indexing\n",
      "def unTuple(df):\n",
      "    '''Function that takes a dataframe and converts any columns that have the format \n",
      "    of a tuple with length 2 into two columns, the first with the original column name\n",
      "    and the second with a d + the original column name. Columns in this form contain \n",
      "    a value and its uncertainty\n",
      "    '''\n",
      "    newDf = pd.DataFrame(index=df.index)\n",
      "    for col in df.columns:\n",
      "        if isinstance(df[col][0],tuple) and len(df[col][0]) == 2:\n",
      "            c0 =[ x[0] for x in df[col] ] \n",
      "            c1 =[ x[1] for x in df[col] ] \n",
      "            newDf[col] = c0\n",
      "            newDf['d'+col] = c1\n",
      "        else:\n",
      "            newDf[col] = df[col]\n",
      "    \n",
      "    return newDf\n",
      "\n",
      "#tdi_ut = unTuple(tdi)"
     ],
     "language": "python",
     "metadata": {},
     "outputs": [],
     "prompt_number": 89
    },
    {
     "cell_type": "code",
     "collapsed": true,
     "input": [
      "#tdi\n",
      "#tdi.dft_id.str.contains('Si')\n",
      "#-tdi.dft_id.str.contains('Si')"
     ],
     "language": "python",
     "metadata": {},
     "outputs": [],
     "prompt_number": 90
    },
    {
     "cell_type": "code",
     "collapsed": true,
     "input": [
      "# Select runs of interest (all runs at P=50 GPa, T=5000 K)\n",
      "tdi_comp_50_5000 = tdi[(tdi.temp == 5000) & (tdi.P_target == 50) \\\n",
      "                       & (- tdi.dft_id.str.contains('Si'))]\n",
      "tdi_comp_50_7500 = tdi[(tdi.temp == 7500) & (tdi.P_target == 50) \\\n",
      "                       & (- tdi.dft_id.str.contains('Si'))]\n",
      "\n",
      "# handle stoichiometry manually for now\n",
      "tdi_comp_50_5000.sort('system',inplace=True)\n",
      "tdi_comp_50_7500.sort('system',inplace=True)\n",
      "\n",
      "N_Fe = [32,0,38,24,13,4,54]\n",
      "N_MgO = [0,32,16,24,30,36,6]\n",
      "\n",
      "for x in [tdi_comp_50_5000,tdi_comp_50_7500]:\n",
      "    x['N_Fe'] = np.array(N_Fe)\n",
      "    x['N_MgO'] = np.array(N_MgO)\n",
      "    x['N_fu'] = x['N_Fe'] + x['N_MgO']\n",
      "    x['frac_MgO'] = x.N_MgO.astype(float) / x.N_fu\n",
      "\n",
      "    x.sort('frac_MgO',inplace=True)\n",
      "\n",
      "\n",
      "tdi_comp_50_5000[['system','frac_MgO','N_fu','N_Fe','N_MgO']]\n"
     ],
     "language": "python",
     "metadata": {},
     "outputs": [
      {
       "html": [
        "<div style=\"max-height:1000px;max-width:1500px;overflow:auto;\">\n",
        "<table border=\"1\" class=\"dataframe\">\n",
        "  <thead>\n",
        "    <tr style=\"text-align: right;\">\n",
        "      <th></th>\n",
        "      <th>system</th>\n",
        "      <th>frac_MgO</th>\n",
        "      <th>N_fu</th>\n",
        "      <th>N_Fe</th>\n",
        "      <th>N_MgO</th>\n",
        "    </tr>\n",
        "    <tr>\n",
        "      <th>dft_id</th>\n",
        "      <th></th>\n",
        "      <th></th>\n",
        "      <th></th>\n",
        "      <th></th>\n",
        "      <th></th>\n",
        "    </tr>\n",
        "  </thead>\n",
        "  <tbody>\n",
        "    <tr>\n",
        "      <th>lFe289</th>\n",
        "      <td>        Fe32</td>\n",
        "      <td> 0.000000</td>\n",
        "      <td> 32</td>\n",
        "      <td> 32</td>\n",
        "      <td>  0</td>\n",
        "    </tr>\n",
        "    <tr>\n",
        "      <th>lFeMgO449</th>\n",
        "      <td>   O6Fe54Mg6</td>\n",
        "      <td> 0.100000</td>\n",
        "      <td> 60</td>\n",
        "      <td> 54</td>\n",
        "      <td>  6</td>\n",
        "    </tr>\n",
        "    <tr>\n",
        "      <th>lFeMgO454</th>\n",
        "      <td> O16Fe38Mg16</td>\n",
        "      <td> 0.296296</td>\n",
        "      <td> 54</td>\n",
        "      <td> 38</td>\n",
        "      <td> 16</td>\n",
        "    </tr>\n",
        "    <tr>\n",
        "      <th>lFeMgO368</th>\n",
        "      <td> O24Fe24Mg24</td>\n",
        "      <td> 0.500000</td>\n",
        "      <td> 48</td>\n",
        "      <td> 24</td>\n",
        "      <td> 24</td>\n",
        "    </tr>\n",
        "    <tr>\n",
        "      <th>lFeMgO459</th>\n",
        "      <td> O30Fe13Mg30</td>\n",
        "      <td> 0.697674</td>\n",
        "      <td> 43</td>\n",
        "      <td> 13</td>\n",
        "      <td> 30</td>\n",
        "    </tr>\n",
        "    <tr>\n",
        "      <th>lFeMgO464</th>\n",
        "      <td>  O36Fe4Mg36</td>\n",
        "      <td> 0.900000</td>\n",
        "      <td> 40</td>\n",
        "      <td>  4</td>\n",
        "      <td> 36</td>\n",
        "    </tr>\n",
        "    <tr>\n",
        "      <th>lMgO257</th>\n",
        "      <td>     Mg32O32</td>\n",
        "      <td> 1.000000</td>\n",
        "      <td> 32</td>\n",
        "      <td>  0</td>\n",
        "      <td> 32</td>\n",
        "    </tr>\n",
        "  </tbody>\n",
        "</table>\n",
        "</div>"
       ],
       "metadata": {},
       "output_type": "pyout",
       "prompt_number": 91,
       "text": [
        "                system  frac_MgO  N_fu  N_Fe  N_MgO\n",
        "dft_id                                             \n",
        "lFe289            Fe32  0.000000    32    32      0\n",
        "lFeMgO449    O6Fe54Mg6  0.100000    60    54      6\n",
        "lFeMgO454  O16Fe38Mg16  0.296296    54    38     16\n",
        "lFeMgO368  O24Fe24Mg24  0.500000    48    24     24\n",
        "lFeMgO459  O30Fe13Mg30  0.697674    43    13     30\n",
        "lFeMgO464   O36Fe4Mg36  0.900000    40     4     36\n",
        "lMgO257        Mg32O32  1.000000    32     0     32"
       ]
      }
     ],
     "prompt_number": 91
    },
    {
     "cell_type": "code",
     "collapsed": true,
     "input": [
      "tdi[tdi.dft_id == 'lFeMgO449']\n"
     ],
     "language": "python",
     "metadata": {},
     "outputs": [
      {
       "html": [
        "<div style=\"max-height:1000px;max-width:1500px;overflow:auto;\">\n",
        "<table border=\"1\" class=\"dataframe\">\n",
        "  <thead>\n",
        "    <tr style=\"text-align: right;\">\n",
        "      <th></th>\n",
        "      <th>F_cl_dft</th>\n",
        "      <th>F_dft</th>\n",
        "      <th>G_dft</th>\n",
        "      <th>P_target</th>\n",
        "      <th>P_targetV</th>\n",
        "      <th>U_dft</th>\n",
        "      <th>cmc_id</th>\n",
        "      <th>dV_var</th>\n",
        "      <th>dV_var_eV</th>\n",
        "      <th>dVcell</th>\n",
        "      <th>dft_id</th>\n",
        "      <th>dft_to_cl_ids</th>\n",
        "      <th>functional</th>\n",
        "      <th>kpoints</th>\n",
        "      <th>lambdas</th>\n",
        "      <th>num_lambda</th>\n",
        "      <th>result_file</th>\n",
        "      <th>system</th>\n",
        "      <th>temp</th>\n",
        "      <th>volume</th>\n",
        "    </tr>\n",
        "    <tr>\n",
        "      <th>dft_id</th>\n",
        "      <th></th>\n",
        "      <th></th>\n",
        "      <th></th>\n",
        "      <th></th>\n",
        "      <th></th>\n",
        "      <th></th>\n",
        "      <th></th>\n",
        "      <th></th>\n",
        "      <th></th>\n",
        "      <th></th>\n",
        "      <th></th>\n",
        "      <th></th>\n",
        "      <th></th>\n",
        "      <th></th>\n",
        "      <th></th>\n",
        "      <th></th>\n",
        "      <th></th>\n",
        "      <th></th>\n",
        "      <th></th>\n",
        "      <th></th>\n",
        "    </tr>\n",
        "  </thead>\n",
        "  <tbody>\n",
        "    <tr>\n",
        "      <th>lFeMgO449</th>\n",
        "      <td> (-16.755211, 0.0031339146)</td>\n",
        "      <td> (-29.254682, 0.0031339146)</td>\n",
        "      <td> (-21.298563, 0.003134)</td>\n",
        "      <td> 50</td>\n",
        "      <td> (7.956119, 0.0)</td>\n",
        "      <td> (-13.610077, 0.019865)</td>\n",
        "      <td> lFeMgO469</td>\n",
        "      <td> [0.039037, 0.039389, 0.038256, 0.041983, 0.041...</td>\n",
        "      <td> [1.062, 1.072, 1.041, 1.142, 1.132]</td>\n",
        "      <td> [(-16.70684, 0.002812), (-16.728897, 0.007033)...</td>\n",
        "      <td> lFeMgO449</td>\n",
        "      <td> [lFeMgO449, lFeMgO450, lFeMgO451, lFeMgO452, l...</td>\n",
        "      <td> PBE</td>\n",
        "      <td> balderesci</td>\n",
        "      <td> [0.0, 0.25, 0.5, 0.75, 1.0]</td>\n",
        "      <td> 5</td>\n",
        "      <td> /u/smwahl/dat/tdi_20140219-182020.dat</td>\n",
        "      <td> O6Fe54Mg6</td>\n",
        "      <td> 5000</td>\n",
        "      <td> 693.732764</td>\n",
        "    </tr>\n",
        "  </tbody>\n",
        "</table>\n",
        "</div>"
       ],
       "metadata": {},
       "output_type": "pyout",
       "prompt_number": 92,
       "text": [
        "                             F_cl_dft                       F_dft  \\\n",
        "dft_id                                                              \n",
        "lFeMgO449  (-16.755211, 0.0031339146)  (-29.254682, 0.0031339146)   \n",
        "\n",
        "                            G_dft  P_target        P_targetV  \\\n",
        "dft_id                                                         \n",
        "lFeMgO449  (-21.298563, 0.003134)        50  (7.956119, 0.0)   \n",
        "\n",
        "                            U_dft     cmc_id  \\\n",
        "dft_id                                         \n",
        "lFeMgO449  (-13.610077, 0.019865)  lFeMgO469   \n",
        "\n",
        "                                                      dV_var  \\\n",
        "dft_id                                                         \n",
        "lFeMgO449  [0.039037, 0.039389, 0.038256, 0.041983, 0.041...   \n",
        "\n",
        "                                     dV_var_eV  \\\n",
        "dft_id                                           \n",
        "lFeMgO449  [1.062, 1.072, 1.041, 1.142, 1.132]   \n",
        "\n",
        "                                                      dVcell     dft_id  \\\n",
        "dft_id                                                                    \n",
        "lFeMgO449  [(-16.70684, 0.002812), (-16.728897, 0.007033)...  lFeMgO449   \n",
        "\n",
        "                                               dft_to_cl_ids functional  \\\n",
        "dft_id                                                                    \n",
        "lFeMgO449  [lFeMgO449, lFeMgO450, lFeMgO451, lFeMgO452, l...        PBE   \n",
        "\n",
        "              kpoints                      lambdas  num_lambda  \\\n",
        "dft_id                                                           \n",
        "lFeMgO449  balderesci  [0.0, 0.25, 0.5, 0.75, 1.0]           5   \n",
        "\n",
        "                                     result_file     system  temp      volume  \n",
        "dft_id                                                                         \n",
        "lFeMgO449  /u/smwahl/dat/tdi_20140219-182020.dat  O6Fe54Mg6  5000  693.732764  "
       ]
      }
     ],
     "prompt_number": 92
    },
    {
     "cell_type": "code",
     "collapsed": true,
     "input": [
      "## Check plots of dV/ cell versus lambda\n",
      "#for idx,row in tdi_comp_50_7500.iterrows():\n",
      "    \n",
      "#    # get lambda values, dV and std from from the table\n",
      "#    lam = np.array(row['lambdas'])\n",
      "#    dVcell = np.array( [ x[0] for x in row['dVcell'] ] )\n",
      "#    dVsig = np.array( [ x[1] for x in row['dVcell'] ] )\n",
      "    \n",
      "#    T = row['temp']; Ptar = row['P_target']\n",
      "#    print T, Ptar\n",
      "    \n",
      "#    # clear figure and plot the new series\n",
      "#    fig = plt.figure()\n",
      "#    ax = fig.add_subplot(1,1,1)\n",
      "#    ax.plot(lam,dVcell, '-b')\n",
      "#    ax.fill_between(lam,dVcell+dVsig,dVcell-dVsig,color='b',alpha=.3)\n",
      "#    ax.set_title('T = {} K, T = {} GPa'.format(T,Ptar))\n",
      "#    ax.set_ylabel('dV / cell (Ha)')\n",
      "#    ax.set_xlabel('lambda')\n",
      "    \n",
      "\n",
      "#    plt.show()\n",
      "\n",
      "    \n",
      "    # wait for a keypress to continue\n",
      "    #raw_input(\"Press Enter to continue...\")\n",
      "    \n",
      "    "
     ],
     "language": "python",
     "metadata": {},
     "outputs": [],
     "prompt_number": 93
    },
    {
     "cell_type": "code",
     "collapsed": true,
     "input": [
      "# removing points from here is a problem because it requires rerunning lambda_cci\n",
      "# could add a list of ids for runs to remove to full_tdi.py"
     ],
     "language": "python",
     "metadata": {},
     "outputs": [],
     "prompt_number": 94
    },
    {
     "cell_type": "code",
     "collapsed": true,
     "input": [
      "# Estimate error from PdV terms"
     ],
     "language": "python",
     "metadata": {},
     "outputs": [],
     "prompt_number": 24
    },
    {
     "cell_type": "code",
     "collapsed": true,
     "input": [
      "#! /Users/swahl/code/python/eos_fitting/polytrope_fit.py /Users/swahl/dat/pleiades/FeMgO_data/lFe_10000K 2 0 50 50.5  100 101"
     ],
     "language": "python",
     "metadata": {},
     "outputs": [],
     "prompt_number": 25
    },
    {
     "cell_type": "code",
     "collapsed": true,
     "input": [
      "#! /Users/swahl/code/python/eos_fitting/polytrope_fit.py /Users/swahl/dat/pleiades/FeMgO_data/lFe_highP 9 12 400 405"
     ],
     "language": "python",
     "metadata": {},
     "outputs": [],
     "prompt_number": 26
    },
    {
     "cell_type": "code",
     "collapsed": true,
     "input": [
      "'''\n",
      "You have: angstroms^3 * GPa\n",
      "You want: eV\n",
      "\t* 0.0062415096\n",
      "    You want: Hartree\n",
      "\t* 0.00022937127\n",
      "'''\n",
      "# rectangular correction is already taken into account, this adds approximate error for not taking into account 'triangular correction'\n",
      "# .01 assumes the fit pressure was within 1% of the target pressure\n",
      "Fe_dV = [388.20061372859868 - 387.22523355111809, 328.21811657338174 - 327.39344645830693, 223.47936643323209 - 222.68455089433454 ]\n",
      "Fe_PdV = 0.00022937127 * np.array(Fe_dV) * .01 * np.array([50.,100.,400.])\n",
      "Fe_PdV"
     ],
     "language": "python",
     "metadata": {},
     "outputs": [
      {
       "metadata": {},
       "output_type": "pyout",
       "prompt_number": 27,
       "text": [
        "array([ 0.00011186,  0.00018916,  0.00072923])"
       ]
      }
     ],
     "prompt_number": 27
    },
    {
     "cell_type": "code",
     "collapsed": true,
     "input": [
      "# must multipy 20 -> 32\n",
      "#! /Users/swahl/code/python/eos_fitting/polytrope_fit.py /Users/swahl/dat/pleiades/FeMgO_data/lMgO_10000K 2 0 50 50.5 100 101"
     ],
     "language": "python",
     "metadata": {},
     "outputs": [],
     "prompt_number": 28
    },
    {
     "cell_type": "code",
     "collapsed": true,
     "input": [
      "# must multipy 20 -> 32\n",
      "#! /Users/swahl/code/python/eos_fitting/polytrope_fit.py /Users/swahl/dat/pleiades/FeMgO_data/lMgO_highP 9 12 400 405"
     ],
     "language": "python",
     "metadata": {},
     "outputs": [],
     "prompt_number": 29
    },
    {
     "cell_type": "code",
     "collapsed": true,
     "input": [
      "MgO_dV = 32./20. * np.array([438.5321581157279 - 437.07322314870572, \\\n",
      "                             348.67417862733947 - 347.51418855162211, 213.82662343284605 - 212.86377223460957] )\n",
      "MgO_PdV = 0.00022937127 * np.array(MgO_dV) * .01 * np.array([50.,100.,400.])\n",
      "MgO_PdV"
     ],
     "language": "python",
     "metadata": {},
     "outputs": [
      {
       "metadata": {},
       "output_type": "pyout",
       "prompt_number": 30,
       "text": [
        "array([ 0.00026771,  0.00042571,  0.00141344])"
       ]
      }
     ],
     "prompt_number": 30
    },
    {
     "cell_type": "code",
     "collapsed": true,
     "input": [
      "#! /Users/swahl/code/python/eos_fitting/polytrope_fit.py ~/dat/pleiades/FeMgO_data/B1MgO_5000K 9 12 100 101 400 405"
     ],
     "language": "python",
     "metadata": {},
     "outputs": [],
     "prompt_number": 31
    },
    {
     "cell_type": "code",
     "collapsed": true,
     "input": [
      "B1_dV =  np.array([466.87225681639819 - 465.62921679976267, 323.98384254326919 - 322.9072811176448] )\n",
      "B1_PdV = 0.00022937127 * np.array(B1_dV) * .01 * np.array([100.,400.])\n",
      "B1_PdV"
     ],
     "language": "python",
     "metadata": {},
     "outputs": [
      {
       "metadata": {},
       "output_type": "pyout",
       "prompt_number": 32,
       "text": [
        "array([ 0.00028512,  0.00098773])"
       ]
      }
     ],
     "prompt_number": 32
    },
    {
     "cell_type": "code",
     "collapsed": true,
     "input": [
      "# no multiplication needed since EOS on correct supercell\n",
      "#! /Users/swahl/code/python/eos_fitting/polytrope_fit.py /Users/swahl/dat/pleiades/FeMgO_data/lSiO_10000K 9 12 50 50.5 100 101 400 405"
     ],
     "language": "python",
     "metadata": {},
     "outputs": [],
     "prompt_number": 33
    },
    {
     "cell_type": "code",
     "collapsed": true,
     "input": [
      "# no multiplication needed since EOS on correct supercell\n",
      "#! /Users/swahl/code/python/eos_fitting/polytrope_fit.py /Users/swahl/dat/pleiades/FeMgO_data/lFeSiO_10000K 9 12 50 50.5 100 101 400 405"
     ],
     "language": "python",
     "metadata": {},
     "outputs": [],
     "prompt_number": 34
    },
    {
     "cell_type": "code",
     "collapsed": true,
     "input": [
      "SiO2_dV = np.array([940.85911504149385 - 937.8945347487105, 758.4327773859128 - 756.04300953513291, 486.46656854587093 - 482.00459614193221] )\n",
      "FeSiO2_dV = np.array([1007.8226314228897 - 1004.7951276620751, 821.84162373427364 - 819.37280776500268, 537.89857841204116 - 535.88201936442567] )\n",
      "SiO2_PdV = 0.00022937127 * np.array(SiO2_dV) * .01 * np.array([50.,100.,400.])\n",
      "FeSiO2_PdV = 0.00022937127 * np.array(FeSiO2_dV) * .01 * np.array([50.,100.,400.])\n",
      "\n",
      "FeSiO2_PdV"
     ],
     "language": "python",
     "metadata": {},
     "outputs": [
      {
       "metadata": {},
       "output_type": "pyout",
       "prompt_number": 35,
       "text": [
        "array([ 0.00034721,  0.00056628,  0.00185016])"
       ]
      }
     ],
     "prompt_number": 35
    },
    {
     "cell_type": "code",
     "collapsed": true,
     "input": [
      "# must multiply 12 -> 24\n",
      "#! /Users/swahl/code/python/eos_fitting/polytrope_fit.py /Users/swahl/dat/pleiades/FeMgO_data/lFeMgO_10000K 2 0 50 50.5 100 101"
     ],
     "language": "python",
     "metadata": {},
     "outputs": [],
     "prompt_number": 36
    },
    {
     "cell_type": "code",
     "collapsed": true,
     "input": [
      "# must multiply 12 -> 24\n",
      "#! /Users/swahl/code/python/eos_fitting/polytrope_fit.py /Users/swahl/dat/pleiades/FeMgO_data/lFeMgO_highP 9 12 400 405"
     ],
     "language": "python",
     "metadata": {},
     "outputs": [],
     "prompt_number": 37
    },
    {
     "cell_type": "code",
     "collapsed": true,
     "input": [
      "FeMgO_dV = 24./12. * np.array([423.06732208123009- 421.72686149754594, 340.03279346542007- 338.9554222457329, \\\n",
      "                               214.1679757904188 - 213.26440757825526])\n",
      "FeMgO_PdV = 0.00022937127 * np.array(FeMgO_dV) * .01 * np.array([50.,100.,400.])\n",
      "FeMgO_PdV\n",
      "\n",
      "# estimate error per formula unit\n",
      "Ps = [50., 100.,400.]\n",
      "err = Fe_PdV / 32. + FeMgO_PdV / 24. + MgO_PdV / 32.\n",
      "err_b1 = Fe_PdV[1:] / 32. + FeMgO_PdV[1:] / 24. + B1_PdV / 32.\n",
      "err_sio = Fe_PdV / 32. + FeSiO2_PdV / 24. + SiO2_PdV / 32.\n",
      "PVerr = {}\n",
      "[PVerr.update({x:y}) for x,y in zip(Ps,err) ]\n",
      "PVerr_b1 = {}\n",
      "[PVerr_b1.update({x:y}) for x,y in zip(Ps[1:],err_b1) ]\n",
      "PVerr_sio = {}\n",
      "[PVerr_sio.update({x:y}) for x,y in zip(Ps,err_sio) ]\n",
      "\n",
      "# store error estimates in dictionaries referenced by target pressure\n",
      "print PVerr\n",
      "print PVerr_b1\n",
      "print PVerr_sio\n"
     ],
     "language": "python",
     "metadata": {},
     "outputs": [
      {
       "output_type": "stream",
       "stream": "stdout",
       "text": [
        "{400.0: 0.00013604275774721535, 50.0: 2.4672599061255223e-05, 100.0: 3.9807700407797048e-05}\n",
        "{400.0: 0.00012273920999367042, 100.0: 3.5414207667453637e-05}\n",
        "{400.0: 0.00022780963411805612, 50.0: 2.8587660107468852e-05, 100.0: 4.663542679963306e-05}\n"
       ]
      }
     ],
     "prompt_number": 38
    },
    {
     "cell_type": "code",
     "collapsed": true,
     "input": [
      "tdi_comp_50_5000.P_targetV"
     ],
     "language": "python",
     "metadata": {},
     "outputs": [
      {
       "metadata": {},
       "output_type": "pyout",
       "prompt_number": 95,
       "text": [
        "dft_id\n",
        "lFe289       (3.865338, 0.0)\n",
        "lFeMgO449    (7.956119, 0.0)\n",
        "lFeMgO454    (8.302334, 0.0)\n",
        "lFeMgO368    (8.391579, 0.0)\n",
        "lFeMgO459    (8.260817, 0.0)\n",
        "lFeMgO464    (8.307748, 0.0)\n",
        "lMgO257      (6.856833, 0.0)\n",
        "Name: P_targetV, dtype: object"
       ]
      }
     ],
     "prompt_number": 95
    },
    {
     "cell_type": "code",
     "collapsed": true,
     "input": [
      "# simplify table because tuples are a pain\n",
      "def simplifyTable(df):\n",
      "    df_simp = df.copy()\n",
      "    for key in ['G_dft','U_dft','F_dft','P_targetV']:\n",
      "        x = Ha_to_eV * np.array( [v[0] for v in df[key].tolist()])\n",
      "        dx = Ha_to_eV * np.array( [v[1] for v in df[key].tolist()])\n",
      "        xkey = key + '_ev'\n",
      "        dxkey = 'd' + key + '_ev'\n",
      "        df_simp[xkey] = x\n",
      "        df_simp[dxkey] = dx\n",
      "    return df_simp\n",
      "\n",
      "tdi_simp_5000 = simplifyTable(tdi_comp_50_5000)\n",
      "tdi_simp_7500 = simplifyTable(tdi_comp_50_7500)\n",
      "\n",
      "for tdi_simp in [tdi_simp_5000,tdi_simp_7500]:\n",
      "    tdi_simp['minusTS_dft_ev'] = tdi_simp['F_dft_ev'] - tdi_simp['U_dft_ev']\n",
      "    tdi_simp['dminusTS_dft_ev'] = tdi_simp['dF_dft_ev'] + tdi_simp['dU_dft_ev']"
     ],
     "language": "python",
     "metadata": {},
     "outputs": [],
     "prompt_number": 96
    },
    {
     "cell_type": "code",
     "collapsed": true,
     "input": [
      "fig_size = [800/72.27 ,700/72.27]\n",
      "params = {'backend': 'ps', 'axes.labelsize': 25, 'text.fontsize': 25, 'legend.fontsize': 25,\n",
      "          'xtick.labelsize': 20, 'ytick.labelsize': 20, \n",
      "          'xtick.major.size': 10,'ytick.major.size': 10,\n",
      "          'xtick.minor.size': 6,'ytick.minor.size': 6,\n",
      "          'xtick.major.width': 2,'ytick.major.width': 2,\n",
      "          'xtick.minor.width': 2,'ytick.minor.width': 2,\n",
      "          'axes.linewidth': 2, 'xaxis.labelpad' : 50,\n",
      "          'text.usetex': False, 'figure.figsize': fig_size,\n",
      "          'figure.subplot.bottom': 0.100,'figure.subplot.top': 0.980,'figure.subplot.left': 0.140,'figure.subplot.right': 0.977}\n",
      "plt.rcParams.update(params)"
     ],
     "language": "python",
     "metadata": {},
     "outputs": [],
     "prompt_number": 97
    },
    {
     "cell_type": "code",
     "collapsed": true,
     "input": [
      "tdi_simp = tdi_simp_5000\n",
      "tdi_simp.frac_MgO"
     ],
     "language": "python",
     "metadata": {},
     "outputs": [
      {
       "metadata": {},
       "output_type": "pyout",
       "prompt_number": 98,
       "text": [
        "dft_id\n",
        "lFe289       0.000000\n",
        "lFeMgO449    0.100000\n",
        "lFeMgO454    0.296296\n",
        "lFeMgO368    0.500000\n",
        "lFeMgO459    0.697674\n",
        "lFeMgO464    0.900000\n",
        "lMgO257      1.000000\n",
        "Name: frac_MgO, dtype: float64"
       ]
      }
     ],
     "prompt_number": 98
    },
    {
     "cell_type": "code",
     "collapsed": true,
     "input": [
      "# plot volume per formula unit\n",
      "v = tdi_simp.volume / tdi_simp.N_fu\n",
      "frac = tdi_simp.frac_MgO\n",
      "fig = plt.figure()\n",
      "ax = fig.add_subplot(1,1,1)\n",
      "ax.plot(frac,v)\n"
     ],
     "language": "python",
     "metadata": {},
     "outputs": [
      {
       "metadata": {},
       "output_type": "pyout",
       "prompt_number": 99,
       "text": [
        "[<matplotlib.lines.Line2D at 0x10eab0410>]"
       ]
      }
     ],
     "prompt_number": 99
    },
    {
     "cell_type": "code",
     "collapsed": false,
     "input": [
      "import matplotlib\n",
      "matplotlib.use('MacOSX')\n",
      "%matplotlib \n",
      "import matplotlib.pyplot as plt\n",
      "\n",
      "fig_size = [600/72.27 ,900/72.27]\n",
      "params = {'backend': 'ps', 'axes.labelsize': 25, 'text.fontsize': 25, 'legend.fontsize': 25,\n",
      "          'xtick.labelsize': 20, 'ytick.labelsize': 20, \n",
      "          'xtick.major.size': 10,'ytick.major.size': 10,\n",
      "          'xtick.minor.size': 6,'ytick.minor.size': 6,\n",
      "          'xtick.major.width': 2,'ytick.major.width': 2,\n",
      "          'xtick.minor.width': 2,'ytick.minor.width': 2,\n",
      "          'axes.linewidth': 2, 'xaxis.labelpad' : 0,\n",
      "          'text.usetex': False, 'figure.figsize': fig_size,\n",
      "          'figure.subplot.bottom': 0.120,'figure.subplot.top': 0.980,'figure.subplot.left': 0.150,'figure.subplot.right': 0.950}\n",
      "plt.rcParams.update(params)\n",
      "\n",
      "from matplotlib import rc\n",
      "rc('font',**{'family':'sans-serif','sans-serif':['Helvetica']})\n",
      "## for Palatino and other serif fonts use:\n",
      "#rc('font',**{'family':'serif','serif':['Palatino']})\n",
      "rc('text', usetex=False)"
     ],
     "language": "python",
     "metadata": {},
     "outputs": [
      {
       "output_type": "stream",
       "stream": "stdout",
       "text": [
        "Using matplotlib backend: MacOSX\n"
       ]
      }
     ],
     "prompt_number": 100
    },
    {
     "cell_type": "code",
     "collapsed": false,
     "input": [
      "import pickle\n",
      "imported = pickle.load(open('finite_size_test.p','rb') )\n",
      "print imported.keys()\n",
      "finite_size_shifts = imported['finite_size_shifts']\n",
      "maxShiftUp = imported['maxShiftUp']\n",
      "maxShiftDown = imported['maxShiftDown']"
     ],
     "language": "python",
     "metadata": {},
     "outputs": [
      {
       "output_type": "stream",
       "stream": "stdout",
       "text": [
        "['finite_size_shifts', 'maxShiftUp', 'maxShiftDown']\n"
       ]
      }
     ],
     "prompt_number": 53
    },
    {
     "cell_type": "code",
     "collapsed": false,
     "input": [
      "print finite_size_shifts"
     ],
     "language": "python",
     "metadata": {},
     "outputs": [
      {
       "output_type": "stream",
       "stream": "stdout",
       "text": [
        "{'O24Fe24Mg24': array([ 0.00884982, -0.02339907]), 'Fe32': array([ 0.01301469, -0.00093752]), 'Mg32O32': array([ 0.02721308,  0.        ])}\n"
       ]
      }
     ],
     "prompt_number": 172
    },
    {
     "cell_type": "code",
     "collapsed": true,
     "input": [
      "from scipy.interpolate import interp1d\n",
      "interp1d?"
     ],
     "language": "python",
     "metadata": {},
     "outputs": [],
     "prompt_number": 176
    },
    {
     "cell_type": "code",
     "collapsed": true,
     "input": [
      "#### These are completely wrong, the shifts in the following plot is for a single system\n",
      "#g_up = finite_size_shifts['O24Fe24Mg24'][0] - finite_size_shifts['Mg32O32'][1]*(frac/0.5) \\\n",
      "#    - finite_size_shifts['Fe32'][1]*(1-frac)/0.5\n",
      "#g_up[0] = finite_size_shifts['Fe32'][0];g_up[-1] = finite_size_shifts['Mg32O32'][0]\n",
      "#g_low = finite_size_shifts['O24Fe24Mg24'][1] - finite_size_shifts['Mg32O32'][0]*(frac/0.5) \\\n",
      "#    - finite_size_shifts['Fe32'][0]*(1-frac)/0.5\n",
      "#g_low[0] = finite_size_shifts['Fe32'][1];g_low[-1] = finite_size_shifts['Mg32O32'][1]\n",
      "\n",
      "g_shift_up = np.array( [ finite_size_shifts[sys][0] for sys in ['Fe32','O24Fe24Mg24','Mg32O32']] )\n",
      "g_shift_down = np.array( [ finite_size_shifts[sys][1] for sys in ['Fe32','O24Fe24Mg24','Mg32O32']] )\n",
      "frac1 = np.array([0.,0.5,1.])\n",
      "\n",
      "fup = interp1d(frac1,g_shift_up,kind='linear')\n",
      "fdown = interp1d(frac1,g_shift_down,kind='linear')\n",
      "frac = tdi_simp.frac_MgO\n",
      "\n",
      "g_up = fup(frac)\n",
      "g_low = fdown(frac)\n",
      "\n",
      "print g_up\n",
      "print g_low"
     ],
     "language": "python",
     "metadata": {},
     "outputs": [
      {
       "output_type": "stream",
       "stream": "stdout",
       "text": [
        "[ 0.01301469  0.01218172  0.01054662  0.00884982  0.01610972  0.02354043\n",
        "  0.02721308]\n",
        "[-0.00093752 -0.00542983 -0.01424807 -0.02339907 -0.01414827 -0.00467981\n",
        "  0.        ]\n"
       ]
      }
     ],
     "prompt_number": 186
    },
    {
     "cell_type": "code",
     "collapsed": true,
     "input": [
      "# Make a stack of subplots showing the \n",
      "#plt.close('all')\n",
      "fig = plt.figure()\n",
      "\n",
      "ax1 = fig.add_subplot(211)\n",
      "\n",
      "# plot convex hull using G/f.u.\n",
      "minorLocator   = plt.MultipleLocator(0.2)\n",
      "ax1.yaxis.set_minor_locator(minorLocator)\n",
      "majorLocator   = plt.MultipleLocator(1.0)\n",
      "ax1.yaxis.set_major_locator(majorLocator)\n",
      "minorLocator   = plt.MultipleLocator(0.05)\n",
      "ax1.xaxis.set_minor_locator(minorLocator)\n",
      "majorLocator   = plt.MultipleLocator(0.2)\n",
      "ax1.xaxis.set_major_locator(majorLocator)\n",
      "plt.setp( ax1.get_xticklabels(),visible=False)\n",
      "\n",
      "g = tdi_simp.G_dft_ev / tdi_simp.N_fu\n",
      "dg = tdi_simp.dG_dft_ev / tdi_simp.N_fu\n",
      "frac = tdi_simp.frac_MgO\n",
      "lin = g[0] * (1 - frac) + g[-1] * frac\n",
      "\n",
      "ax2.fill_between(frac,(g+g_up),(g+g_low),alpha=.3)\n",
      "ax1.plot(frac,g)\n",
      "ax1.plot(frac,lin,color='k',linewidth=2)\n",
      "ax1.plot(frac,g,'-',color='b',linewidth=3)    \n",
      "(_, caps, _) = ax.errorbar(frac,g,dg,fmt='D',color='b',markersize=10, \\\n",
      "                           linewidth=2,mfc='w',capsize=12)\n",
      "ax1.plot(frac,g,'D',color='b',markersize=10,mec='b',mew=3, mfc='w')\n",
      "\n",
      "for cap in caps:\n",
      "    cap.set_markeredgewidth(2.5)\n",
      "    \n",
      "plt.ylabel(r'$\\Delta G_{\\rm mix}$ $({\\rm eV})$')\n",
      "\n",
      "\n",
      "# plot difference convex hull\n",
      "ax2 = fig.add_subplot(212,sharex=ax1)\n",
      "# make these tick labels invisible\n",
      "#plt.setp( ax2.get_xticklabels())\n",
      "minorLocator   = plt.MultipleLocator(0.01)\n",
      "ax2.yaxis.set_minor_locator(minorLocator)\n",
      "majorLocator   = plt.MultipleLocator(0.05)\n",
      "ax2.yaxis.set_major_locator(majorLocator)\n",
      "\n",
      "ax2.fill_between(frac,(g+g_up-lin),(g+g_low-lin),alpha=.3)\n",
      "ax2.plot(frac,g-lin)\n",
      "ax2.plot(frac,g-lin,'-',color='b',linewidth=3)    \n",
      "(_, caps, _) = ax2.errorbar(frac,g-lin,dg,fmt='D',color='b',markersize=10, \\\n",
      "                           linewidth=2,mfc='w',capsize=12)\n",
      "for cap in caps:\n",
      "    cap.set_markeredgewidth(2.5)\n",
      "ax2.plot(frac,g-lin,'D',color='b',markersize=10,mec='b',mew=3, mfc='w')\n",
      "\n",
      "    \n",
      "ax2.axhline(color='k',linewidth=2)\n",
      "plt.xlabel(r'$X_{\\rm MgO}$')\n",
      "plt.ylabel(r'$\\Delta G - \\Delta G_{\\rm mix}$')\n",
      "plt.xlim(0,1)\n",
      "plt.ylim(-.04,0.2)\n",
      "\n",
      "plt.subplots_adjust(left=None, bottom=None, right=None, top=None,\n",
      "                wspace=None, hspace=.05)\n",
      "\n",
      "#plt.savefig(\"/Users/swahl/Documents/Presentations/CIPS_2014/images/convex_hull_5000.png\", transparent = True)\n",
      "#plt.savefig(\"/Users/swahl/Documents/Papers and Abstracts/FeMgO manuscript/figures/convex_hull_5000.png\", transparent = True)\n"
     ],
     "language": "python",
     "metadata": {},
     "outputs": [],
     "prompt_number": 180
    },
    {
     "cell_type": "code",
     "collapsed": false,
     "input": [
      "frac"
     ],
     "language": "python",
     "metadata": {},
     "outputs": [
      {
       "metadata": {},
       "output_type": "pyout",
       "prompt_number": 181,
       "text": [
        "dft_id\n",
        "lFe289       0.000000\n",
        "lFeMgO449    0.100000\n",
        "lFeMgO454    0.296296\n",
        "lFeMgO368    0.500000\n",
        "lFeMgO459    0.697674\n",
        "lFeMgO464    0.900000\n",
        "lMgO257      1.000000\n",
        "Name: frac_MgO, dtype: float64"
       ]
      }
     ],
     "prompt_number": 181
    },
    {
     "cell_type": "code",
     "collapsed": true,
     "input": [
      "# interpolate between the two convex hulls to estimate solvus shape\n",
      "g1 = tdi_simp_5000.G_dft_ev / tdi_simp_5000.N_fu\n",
      "dg1 = tdi_simp_5000.dG_dft_ev / tdi_simp_5000.N_fu\n",
      "g2 = tdi_simp_7500.G_dft_ev / tdi_simp_7500.N_fu\n",
      "dg2 = tdi_simp_7500.dG_dft_ev / tdi_simp_7500.N_fu\n",
      "frac = tdi_simp_5000.frac_MgO\n",
      "T = [5000,7500]\n",
      "\n",
      "# Do linear fits between the two temperatures\n",
      "lins = []\n",
      "for i,f in enumerate(frac):\n",
      "    z = np.polyfit(T,[g1[i],g2[i]],1)\n",
      "    lins.append(np.poly1d(z))\n",
      "    \n",
      "lins_up = []\n",
      "for i,f in enumerate(frac):\n",
      "    z = np.polyfit(T,[g1[i]+g_up[i],g2[i]+g_up[i]],1)\n",
      "    lins_up.append(np.poly1d(z))\n",
      "    \n",
      "lins_low = []\n",
      "for i,f in enumerate(frac):\n",
      "    z = np.polyfit(T,[g1[i]+g_low[i],g2[i]+g_low[i]],1)\n",
      "    lins_low.append(np.poly1d(z))\n",
      "\n",
      "# Estimate T_solvus at each point\n",
      "solvus = []\n",
      "solvus_upper = []\n",
      "solvus_lower = []\n",
      "Tgrid = np.linspace(T[0],T[1],1000)\n",
      "g_end0 = lins[0](Tgrid) \n",
      "g_end1 = lins[-1](Tgrid)\n",
      "for i in range(1,len(frac)-1):\n",
      "    f = frac[i]\n",
      "    g_f = lins[i](Tgrid)\n",
      "    g_fup = lins_up[i](Tgrid)\n",
      "    g_flow = lins_low[i](Tgrid)    \n",
      "    g_2phase = (1-f)*g_end0 + f*g_end1\n",
      "    gdiff2 = (g_2phase - g_f)**2\n",
      "    gdiff2_up = (g_2phase - g_fup)**2\n",
      "    gdiff2_low = (g_2phase - g_flow)**2\n",
      "    solvus.append(Tgrid[np.argmin(gdiff2)])\n",
      "    solvus_upper.append(Tgrid[np.argmin(gdiff2_up)])\n",
      "    solvus_lower.append(Tgrid[np.argmin(gdiff2_low)])\n",
      "\n",
      "\n",
      "extsolv =  [0.] + solvus + [0.] \n",
      "\n",
      "# fit a spline \n",
      "\n",
      "fsolvus = np.linspace(.1,.9,100)\n",
      "\n",
      "from scipy import interpolate\n",
      "s = interpolate.interp1d(frac[1:-1],extsolv[1:-1],kind='quadratic')\n",
      "s_up = interpolate.interp1d(frac[1:-1],solvus_upper,kind='quadratic')\n",
      "s_low = interpolate.interp1d(frac[1:-1],solvus_lower,kind='quadratic')\n",
      "\n",
      "s_ends = interpolate.interp1d(frac,extsolv,kind='quadratic')\n",
      "\n",
      "fsolvus = np.linspace(.1,.9,100)\n",
      "Tsolvus = s(fsolvus)\n",
      "Tsolvus_upper = s_up(fsolvus)\n",
      "Tsolvus_lower = s_low(fsolvus)\n",
      "\n",
      "#fsolvus = np.hstack([np.linspace(.0,.1,50),np.linspace(.1,.9,100),np.linspace(.9,1.,50)])\n",
      "#Tsolvus = np.hstack([s_ends(np.linspace(.0,.1,50)),s(np.linspace(.1,.9,100)),s_ends(np.linspace(.9,1.,50))])\n",
      "\n",
      "#plt.savefig(\"/Users/swahl/Documents/Papers and Abstracts/FeMgO manuscript/figures/convex_hull_5000.png\", transparent = True)\n"
     ],
     "language": "python",
     "metadata": {},
     "outputs": [],
     "prompt_number": 182
    },
    {
     "cell_type": "code",
     "collapsed": true,
     "input": [
      "import matplotlib\n",
      "matplotlib.use('MacOSX')\n",
      "%matplotlib \n",
      "import matplotlib.pyplot as plt\n",
      "\n",
      "fig_size = [800/72.27 ,700/72.27]\n",
      "params = {'backend': 'ps', 'axes.labelsize': 28, 'text.fontsize': 28, 'legend.fontsize': 22,\n",
      "          'xtick.labelsize': 20, 'ytick.labelsize': 20, \n",
      "          'xtick.major.size': 10,'ytick.major.size': 10,\n",
      "          'xtick.minor.size': 6,'ytick.minor.size': 6,\n",
      "          'xtick.major.width': 2,'ytick.major.width': 2,\n",
      "          'xtick.minor.width': 2,'ytick.minor.width': 2,\n",
      "          'axes.linewidth': 2, 'xaxis.labelpad' : 50,\n",
      "          'text.usetex': False, 'figure.figsize': fig_size,\n",
      "          'figure.subplot.bottom': 0.100,'figure.subplot.top': 0.980,'figure.subplot.left': 0.130,'figure.subplot.right': 0.950}\n",
      "plt.rcParams.update(params)\n",
      "\n",
      "# use latex\n",
      "plt.rc('text', usetex=False)\n",
      "#plt.rc('font',**{'family':'sans-serif','sans-serif':['Helvetica']})\n",
      "plt.rc('font',family='sans-serif')\n",
      "\n",
      "\n",
      "fig = plt.figure()\n",
      "ax = fig.add_subplot(1,1,1)\n",
      "minorLocator   = plt.MultipleLocator(100)\n",
      "ax.yaxis.set_minor_locator(minorLocator)\n",
      "minorLocator   = plt.MultipleLocator(.05)\n",
      "ax.xaxis.set_minor_locator(minorLocator)\n",
      "\n",
      "ax.fill_between(fsolvus,Tsolvus_upper,Tsolvus_lower,color='b',alpha=0.3)\n",
      "\n",
      "ax.plot(fsolvus,Tsolvus,lw=4)\n",
      "ax.plot(frac[1:-1],solvus,'s',color='b',markersize=12,mec='b',mew=3, mfc='w')\n",
      "ax.set_ylim(4000,7000)\n",
      "ax.set_xlim(0,1)\n",
      "ax.set_xlabel(r'$X_{\\rm MgO}$')\n",
      "ax.set_ylabel(r'$T$ $({\\rm K})$')\n",
      "\n",
      "#plt.savefig(\"/Users/swahl/Documents/Presentations/CIPS_2014/images/solvus_50GPa\", transparent = True)\n",
      "#plt.savefig(\"/Users/swahl/Documents/Papers and Abstracts/FeMgO manuscript/figures/solvus_50GPa.png\", transparent = True)"
     ],
     "language": "python",
     "metadata": {},
     "outputs": [
      {
       "output_type": "stream",
       "stream": "stdout",
       "text": [
        "Using matplotlib backend: MacOSX\n"
       ]
      },
      {
       "metadata": {},
       "output_type": "pyout",
       "prompt_number": 183,
       "text": [
        "<matplotlib.text.Text at 0x111395190>"
       ]
      }
     ],
     "prompt_number": 183
    },
    {
     "cell_type": "code",
     "collapsed": true,
     "input": [
      "tdi_simp[tdi_simp.dft_id=='lFeMgO368'].dft_to_cl_ids.tolist()"
     ],
     "language": "python",
     "metadata": {},
     "outputs": [
      {
       "metadata": {},
       "output_type": "pyout",
       "prompt_number": 142,
       "text": [
        "[['lFeMgO368', 'lFeMgO369', 'lFeMgO370', 'lFeMgO371', 'lFeMgO372']]"
       ]
      }
     ],
     "prompt_number": 142
    },
    {
     "cell_type": "code",
     "collapsed": true,
     "input": [
      "# get volumes\n",
      "idx = np.array(tdi_simp.index.tolist())\n",
      "idx"
     ],
     "language": "python",
     "metadata": {},
     "outputs": [
      {
       "metadata": {},
       "output_type": "pyout",
       "prompt_number": 143,
       "text": [
        "array(['lFe289', 'lFeMgO449', 'lFeMgO454', 'lFeMgO368', 'lFeMgO459',\n",
        "       'lFeMgO464', 'lMgO257'], \n",
        "      dtype='|S9')"
       ]
      }
     ],
     "prompt_number": 143
    },
    {
     "cell_type": "code",
     "collapsed": true,
     "input": [
      "# use volumes as a function of frac_MgO to begin runs at a new condition\n",
      "lam1runs = dft[dft.id.isin(idx)]\n",
      "\n",
      "lam1runs = pd.merge(lam1runs,tdi_simp,how='left',left_on='id', \\\n",
      "         right_on='dft_id')\n",
      "lam1runs.sort('frac_MgO',inplace=True)\n",
      "#print lam1runs[['volume_x','frac_MgO']]\n",
      "fuvol = np.array((lam1runs.volume_x / lam1runs.N_fu))\n",
      "\n",
      "fracvol = (fuvol - fuvol[0]) / (fuvol[-1] - fuvol[0])\n",
      "\n",
      "# endmember volume at new condition (7500 K, 50 GPa)\n",
      "fevol = 363.4623409620323024 / 32.\n",
      "mgovol = 648.7953637252718062 /32.\n",
      "\n",
      "# predicted volumes\n",
      "pred_vol = (fevol + fracvol * (mgovol - fevol) ) * lam1runs.N_fu\n",
      "print pred_vol\n",
      "pred_vol **(1./3)"
     ],
     "language": "python",
     "metadata": {},
     "outputs": [
      {
       "output_type": "stream",
       "stream": "stdout",
       "text": [
        "0    363.462341\n",
        "3    749.079989\n",
        "4    783.081178\n",
        "2    792.572092\n",
        "5    780.915286\n",
        "6    785.881015\n",
        "1    648.795364\n",
        "Name: N_fu, dtype: float64\n"
       ]
      },
      {
       "metadata": {},
       "output_type": "pyout",
       "prompt_number": 144,
       "text": [
        "0    7.136520\n",
        "3    9.081886\n",
        "4    9.217269\n",
        "2    9.254357\n",
        "5    9.208763\n",
        "6    9.228241\n",
        "1    8.657036\n",
        "Name: N_fu, dtype: float64"
       ]
      }
     ],
     "prompt_number": 144
    },
    {
     "cell_type": "code",
     "collapsed": true,
     "input": [
      "# check that f.u. volume is monatonic\n",
      "(fevol + fracvol * (mgovol - fevol) )\n"
     ],
     "language": "python",
     "metadata": {},
     "outputs": [
      {
       "metadata": {},
       "output_type": "pyout",
       "prompt_number": 145,
       "text": [
        "array([ 11.35819816,  12.48466648,  14.5015033 ,  16.51191858,\n",
        "        18.1608206 ,  19.64702538,  20.27485512])"
       ]
      }
     ],
     "prompt_number": 145
    },
    {
     "cell_type": "code",
     "collapsed": true,
     "input": [
      "# extrapolation in low-concentration limit"
     ],
     "language": "python",
     "metadata": {},
     "outputs": [],
     "prompt_number": 146
    },
    {
     "cell_type": "code",
     "collapsed": true,
     "input": [
      "tdi_comp_50_5000[['system','frac_MgO','N_fu','N_Fe','N_MgO']]"
     ],
     "language": "python",
     "metadata": {},
     "outputs": [
      {
       "html": [
        "<div style=\"max-height:1000px;max-width:1500px;overflow:auto;\">\n",
        "<table border=\"1\" class=\"dataframe\">\n",
        "  <thead>\n",
        "    <tr style=\"text-align: right;\">\n",
        "      <th></th>\n",
        "      <th>system</th>\n",
        "      <th>frac_MgO</th>\n",
        "      <th>N_fu</th>\n",
        "      <th>N_Fe</th>\n",
        "      <th>N_MgO</th>\n",
        "    </tr>\n",
        "    <tr>\n",
        "      <th>dft_id</th>\n",
        "      <th></th>\n",
        "      <th></th>\n",
        "      <th></th>\n",
        "      <th></th>\n",
        "      <th></th>\n",
        "    </tr>\n",
        "  </thead>\n",
        "  <tbody>\n",
        "    <tr>\n",
        "      <th>lFe289</th>\n",
        "      <td>        Fe32</td>\n",
        "      <td> 0.000000</td>\n",
        "      <td> 32</td>\n",
        "      <td> 32</td>\n",
        "      <td>  0</td>\n",
        "    </tr>\n",
        "    <tr>\n",
        "      <th>lFeMgO449</th>\n",
        "      <td>   O6Fe54Mg6</td>\n",
        "      <td> 0.100000</td>\n",
        "      <td> 60</td>\n",
        "      <td> 54</td>\n",
        "      <td>  6</td>\n",
        "    </tr>\n",
        "    <tr>\n",
        "      <th>lFeMgO454</th>\n",
        "      <td> O16Fe38Mg16</td>\n",
        "      <td> 0.296296</td>\n",
        "      <td> 54</td>\n",
        "      <td> 38</td>\n",
        "      <td> 16</td>\n",
        "    </tr>\n",
        "    <tr>\n",
        "      <th>lFeMgO368</th>\n",
        "      <td> O24Fe24Mg24</td>\n",
        "      <td> 0.500000</td>\n",
        "      <td> 48</td>\n",
        "      <td> 24</td>\n",
        "      <td> 24</td>\n",
        "    </tr>\n",
        "    <tr>\n",
        "      <th>lFeMgO459</th>\n",
        "      <td> O30Fe13Mg30</td>\n",
        "      <td> 0.697674</td>\n",
        "      <td> 43</td>\n",
        "      <td> 13</td>\n",
        "      <td> 30</td>\n",
        "    </tr>\n",
        "    <tr>\n",
        "      <th>lFeMgO464</th>\n",
        "      <td>  O36Fe4Mg36</td>\n",
        "      <td> 0.900000</td>\n",
        "      <td> 40</td>\n",
        "      <td>  4</td>\n",
        "      <td> 36</td>\n",
        "    </tr>\n",
        "    <tr>\n",
        "      <th>lMgO257</th>\n",
        "      <td>     Mg32O32</td>\n",
        "      <td> 1.000000</td>\n",
        "      <td> 32</td>\n",
        "      <td>  0</td>\n",
        "      <td> 32</td>\n",
        "    </tr>\n",
        "  </tbody>\n",
        "</table>\n",
        "</div>"
       ],
       "metadata": {},
       "output_type": "pyout",
       "prompt_number": 147,
       "text": [
        "                system  frac_MgO  N_fu  N_Fe  N_MgO\n",
        "dft_id                                             \n",
        "lFe289            Fe32  0.000000    32    32      0\n",
        "lFeMgO449    O6Fe54Mg6  0.100000    60    54      6\n",
        "lFeMgO454  O16Fe38Mg16  0.296296    54    38     16\n",
        "lFeMgO368  O24Fe24Mg24  0.500000    48    24     24\n",
        "lFeMgO459  O30Fe13Mg30  0.697674    43    13     30\n",
        "lFeMgO464   O36Fe4Mg36  0.900000    40     4     36\n",
        "lMgO257        Mg32O32  1.000000    32     0     32"
       ]
      }
     ],
     "prompt_number": 147
    },
    {
     "cell_type": "code",
     "collapsed": true,
     "input": [
      "tdi_comp_50_7500[['system','frac_MgO','N_fu','N_Fe','N_MgO']]"
     ],
     "language": "python",
     "metadata": {},
     "outputs": [
      {
       "html": [
        "<div style=\"max-height:1000px;max-width:1500px;overflow:auto;\">\n",
        "<table border=\"1\" class=\"dataframe\">\n",
        "  <thead>\n",
        "    <tr style=\"text-align: right;\">\n",
        "      <th></th>\n",
        "      <th>system</th>\n",
        "      <th>frac_MgO</th>\n",
        "      <th>N_fu</th>\n",
        "      <th>N_Fe</th>\n",
        "      <th>N_MgO</th>\n",
        "    </tr>\n",
        "    <tr>\n",
        "      <th>dft_id</th>\n",
        "      <th></th>\n",
        "      <th></th>\n",
        "      <th></th>\n",
        "      <th></th>\n",
        "      <th></th>\n",
        "    </tr>\n",
        "  </thead>\n",
        "  <tbody>\n",
        "    <tr>\n",
        "      <th>lFe279</th>\n",
        "      <td>        Fe32</td>\n",
        "      <td> 0.000000</td>\n",
        "      <td> 32</td>\n",
        "      <td> 32</td>\n",
        "      <td>  0</td>\n",
        "    </tr>\n",
        "    <tr>\n",
        "      <th>lFeMgO489</th>\n",
        "      <td>   O6Fe54Mg6</td>\n",
        "      <td> 0.100000</td>\n",
        "      <td> 60</td>\n",
        "      <td> 54</td>\n",
        "      <td>  6</td>\n",
        "    </tr>\n",
        "    <tr>\n",
        "      <th>lFeMgO494</th>\n",
        "      <td> O16Fe38Mg16</td>\n",
        "      <td> 0.296296</td>\n",
        "      <td> 54</td>\n",
        "      <td> 38</td>\n",
        "      <td> 16</td>\n",
        "    </tr>\n",
        "    <tr>\n",
        "      <th>lFeMgO388</th>\n",
        "      <td> O24Fe24Mg24</td>\n",
        "      <td> 0.500000</td>\n",
        "      <td> 48</td>\n",
        "      <td> 24</td>\n",
        "      <td> 24</td>\n",
        "    </tr>\n",
        "    <tr>\n",
        "      <th>lFeMgO499</th>\n",
        "      <td> O30Fe13Mg30</td>\n",
        "      <td> 0.697674</td>\n",
        "      <td> 43</td>\n",
        "      <td> 13</td>\n",
        "      <td> 30</td>\n",
        "    </tr>\n",
        "    <tr>\n",
        "      <th>lFeMgO504</th>\n",
        "      <td>  O36Fe4Mg36</td>\n",
        "      <td> 0.900000</td>\n",
        "      <td> 40</td>\n",
        "      <td>  4</td>\n",
        "      <td> 36</td>\n",
        "    </tr>\n",
        "    <tr>\n",
        "      <th>lMgO227</th>\n",
        "      <td>     Mg32O32</td>\n",
        "      <td> 1.000000</td>\n",
        "      <td> 32</td>\n",
        "      <td>  0</td>\n",
        "      <td> 32</td>\n",
        "    </tr>\n",
        "  </tbody>\n",
        "</table>\n",
        "</div>"
       ],
       "metadata": {},
       "output_type": "pyout",
       "prompt_number": 148,
       "text": [
        "                system  frac_MgO  N_fu  N_Fe  N_MgO\n",
        "dft_id                                             \n",
        "lFe279            Fe32  0.000000    32    32      0\n",
        "lFeMgO489    O6Fe54Mg6  0.100000    60    54      6\n",
        "lFeMgO494  O16Fe38Mg16  0.296296    54    38     16\n",
        "lFeMgO388  O24Fe24Mg24  0.500000    48    24     24\n",
        "lFeMgO499  O30Fe13Mg30  0.697674    43    13     30\n",
        "lFeMgO504   O36Fe4Mg36  0.900000    40     4     36\n",
        "lMgO227        Mg32O32  1.000000    32     0     32"
       ]
      }
     ],
     "prompt_number": 148
    },
    {
     "cell_type": "code",
     "collapsed": false,
     "input": [
      "tdi2 = unTuple(pd.concat([tdi_comp_50_5000,tdi_comp_50_7500]) )\n",
      "lowCon = tdi2.loc[['lFeMgO449','lFeMgO489']]\n",
      "solvent =  tdi2.loc[['lFe289','lFe279']]\n",
      "solute = tdi2.loc[['lMgO257','lMgO227']]"
     ],
     "language": "python",
     "metadata": {},
     "outputs": [],
     "prompt_number": 149
    },
    {
     "cell_type": "code",
     "collapsed": false,
     "input": [
      "tdi2.columns"
     ],
     "language": "python",
     "metadata": {},
     "outputs": [
      {
       "metadata": {},
       "output_type": "pyout",
       "prompt_number": 150,
       "text": [
        "Index([u'F_cl_dft', u'dF_cl_dft', u'F_dft', u'dF_dft', u'G_dft', u'dG_dft', u'P_target', u'P_targetV', u'dP_targetV', u'U_dft', u'dU_dft', u'cmc_id', u'dV_var', u'dV_var_eV', u'dVcell', u'dft_id', u'dft_to_cl_ids', u'functional', u'kpoints', u'lambdas', u'num_lambda', u'result_file', u'system', u'temp', u'volume', u'N_Fe', u'N_MgO', u'N_fu', u'frac_MgO'], dtype='object')"
       ]
      }
     ],
     "prompt_number": 150
    },
    {
     "cell_type": "code",
     "collapsed": false,
     "input": [
      "solute"
     ],
     "language": "python",
     "metadata": {},
     "outputs": [
      {
       "html": [
        "<div style=\"max-height:1000px;max-width:1500px;overflow:auto;\">\n",
        "<table border=\"1\" class=\"dataframe\">\n",
        "  <thead>\n",
        "    <tr style=\"text-align: right;\">\n",
        "      <th></th>\n",
        "      <th>F_cl_dft</th>\n",
        "      <th>dF_cl_dft</th>\n",
        "      <th>F_dft</th>\n",
        "      <th>dF_dft</th>\n",
        "      <th>G_dft</th>\n",
        "      <th>dG_dft</th>\n",
        "      <th>P_target</th>\n",
        "      <th>P_targetV</th>\n",
        "      <th>dP_targetV</th>\n",
        "      <th>U_dft</th>\n",
        "      <th>...</th>\n",
        "      <th>lambdas</th>\n",
        "      <th>num_lambda</th>\n",
        "      <th>result_file</th>\n",
        "      <th>system</th>\n",
        "      <th>temp</th>\n",
        "      <th>volume</th>\n",
        "      <th>N_Fe</th>\n",
        "      <th>N_MgO</th>\n",
        "      <th>N_fu</th>\n",
        "      <th>frac_MgO</th>\n",
        "    </tr>\n",
        "  </thead>\n",
        "  <tbody>\n",
        "    <tr>\n",
        "      <th>lMgO257</th>\n",
        "      <td> -7.617717</td>\n",
        "      <td> 0.003453</td>\n",
        "      <td>-20.732953</td>\n",
        "      <td> 0.003453</td>\n",
        "      <td>-13.876120</td>\n",
        "      <td> 0.003453</td>\n",
        "      <td> 50</td>\n",
        "      <td> 6.856833</td>\n",
        "      <td> 0</td>\n",
        "      <td>-9.604445</td>\n",
        "      <td>...</td>\n",
        "      <td> [0.0, 0.25, 0.5, 0.75, 1.0]</td>\n",
        "      <td> 5</td>\n",
        "      <td> /u/smwahl/dat/tdi_20140219-164724.dat</td>\n",
        "      <td> Mg32O32</td>\n",
        "      <td> 5000</td>\n",
        "      <td> 597.880672</td>\n",
        "      <td> 0</td>\n",
        "      <td> 32</td>\n",
        "      <td> 32</td>\n",
        "      <td> 1</td>\n",
        "    </tr>\n",
        "    <tr>\n",
        "      <th>lMgO227</th>\n",
        "      <td>-10.034528</td>\n",
        "      <td> 0.002364</td>\n",
        "      <td>-27.316685</td>\n",
        "      <td> 0.002364</td>\n",
        "      <td>-19.875934</td>\n",
        "      <td> 0.002364</td>\n",
        "      <td> 50</td>\n",
        "      <td> 7.440751</td>\n",
        "      <td> 0</td>\n",
        "      <td>-7.773042</td>\n",
        "      <td>...</td>\n",
        "      <td> [0.0, 0.25, 0.5, 0.75, 1.0]</td>\n",
        "      <td> 5</td>\n",
        "      <td> /u/smwahl/dat/tdi_20140219-164724.dat</td>\n",
        "      <td> Mg32O32</td>\n",
        "      <td> 7500</td>\n",
        "      <td> 648.795364</td>\n",
        "      <td> 0</td>\n",
        "      <td> 32</td>\n",
        "      <td> 32</td>\n",
        "      <td> 1</td>\n",
        "    </tr>\n",
        "  </tbody>\n",
        "</table>\n",
        "<p>2 rows \u00d7 29 columns</p>\n",
        "</div>"
       ],
       "metadata": {},
       "output_type": "pyout",
       "prompt_number": 151,
       "text": [
        "          F_cl_dft  dF_cl_dft      F_dft    dF_dft      G_dft    dG_dft  \\\n",
        "lMgO257  -7.617717   0.003453 -20.732953  0.003453 -13.876120  0.003453   \n",
        "lMgO227 -10.034528   0.002364 -27.316685  0.002364 -19.875934  0.002364   \n",
        "\n",
        "         P_target  P_targetV  dP_targetV     U_dft    ...     \\\n",
        "lMgO257        50   6.856833           0 -9.604445    ...      \n",
        "lMgO227        50   7.440751           0 -7.773042    ...      \n",
        "\n",
        "                             lambdas num_lambda  \\\n",
        "lMgO257  [0.0, 0.25, 0.5, 0.75, 1.0]          5   \n",
        "lMgO227  [0.0, 0.25, 0.5, 0.75, 1.0]          5   \n",
        "\n",
        "                                   result_file   system  temp      volume  \\\n",
        "lMgO257  /u/smwahl/dat/tdi_20140219-164724.dat  Mg32O32  5000  597.880672   \n",
        "lMgO227  /u/smwahl/dat/tdi_20140219-164724.dat  Mg32O32  7500  648.795364   \n",
        "\n",
        "        N_Fe N_MgO N_fu frac_MgO  \n",
        "lMgO257    0    32   32        1  \n",
        "lMgO227    0    32   32        1  \n",
        "\n",
        "[2 rows x 29 columns]"
       ]
      }
     ],
     "prompt_number": 151
    },
    {
     "cell_type": "code",
     "collapsed": false,
     "input": [
      "T = lowCon.temp\n",
      "G = lowCon.G_dft\n",
      "dG = lowCon.dG_dft\n",
      "V = lowCon.volume\n",
      "V"
     ],
     "language": "python",
     "metadata": {},
     "outputs": [
      {
       "metadata": {},
       "output_type": "pyout",
       "prompt_number": 152,
       "text": [
        "lFeMgO449    693.732764\n",
        "lFeMgO489    749.079891\n",
        "Name: volume, dtype: float64"
       ]
      }
     ],
     "prompt_number": 152
    },
    {
     "cell_type": "code",
     "collapsed": false,
     "input": [
      "# determine the multiplier to treat the low-concentration case as having one solvent atom\n",
      "n = 1. * lowCon.N_Fe[0] / lowCon.N_MgO[0] # number of solvent atoms per solute atom in the mixture\n",
      "mixMult = 1. / lowCon.N_MgO[0] # multiplying factor for the mixture (MgO in Fe)\n",
      "solvMult = 1. * lowCon.N_Fe[0] / solvent.N_Fe[0] / lowCon.N_MgO[0] # multiplying factor for solvent (Fe)\n",
      "soluMult = 1. / solute.N_MgO[0] # multiplying factor for the solute (MgO)\n",
      "print n, mixMult, solvMult, soluMult\n",
      "np.array(mixMult*lowCon.G_dft)"
     ],
     "language": "python",
     "metadata": {},
     "outputs": [
      {
       "output_type": "stream",
       "stream": "stdout",
       "text": [
        "9.0 0.166666666667 0.28125 0.03125\n"
       ]
      },
      {
       "metadata": {},
       "output_type": "pyout",
       "prompt_number": 153,
       "text": [
        "array([-3.5497605 , -4.94266183])"
       ]
      }
     ],
     "prompt_number": 153
    },
    {
     "cell_type": "code",
     "collapsed": false,
     "input": [
      "print lowCon.G_dft + g_up[1]*tdi_simp.N_fu[1]/Ha_to_eV\n",
      "print g_up[1]*tdi_simp.N_fu[1]/Ha_to_eV\n",
      "print g_up[1], g_up[1]/Ha_to_eV\n",
      "Ha_to_eV"
     ],
     "language": "python",
     "metadata": {},
     "outputs": [
      {
       "output_type": "stream",
       "stream": "stdout",
       "text": [
        "lFeMgO449   -21.271703\n",
        "lFeMgO489   -29.629111\n",
        "Name: G_dft, dtype: float64\n",
        "0.0268602007151\n",
        "0.0121817202102 0.000447670011919\n"
       ]
      },
      {
       "metadata": {},
       "output_type": "pyout",
       "prompt_number": 185,
       "text": [
        "27.211383130172305"
       ]
      }
     ],
     "prompt_number": 185
    },
    {
     "cell_type": "code",
     "collapsed": false,
     "input": [
      "# parameterize deltaG_mix, along with\n",
      "Gsol = lambda T: np.polyval( np.polyfit(np.array(lowCon.temp), mixMult* np.array(lowCon.G_dft) \\\n",
      "                                        - solvMult*np.array(solvent.G_dft) - soluMult*np.array(solute.G_dft),1), T)\n",
      "Vsol = lambda T: np.polyval( np.polyfit(lowCon.temp,mixMult*lowCon.volume,1), T)\n",
      "Vend = lambda T: np.polyval( np.polyfit(solvent.temp,solvMult *solvent.volume,1), T)\n",
      "\n",
      "g_up_ha = g_up*tdi_simp.N_fu/Ha_to_eV\n",
      "g_low_ha = g_low*tdi_simp.N_fu/Ha_to_eV\n",
      "Gsol_up = lambda T: np.polyval( np.polyfit(np.array(lowCon.temp),  mixMult* (np.array(lowCon.G_dft)+g_up_ha[1])  \\\n",
      "                    - solvMult*(np.array(solvent.G_dft)+g_low_ha[0]) - soluMult*(np.array(solute.G_dft)+g_low_ha[-1]) ,1), T)\n",
      "Gsol_low = lambda T: np.polyval( np.polyfit(np.array(lowCon.temp),  mixMult* (np.array(lowCon.G_dft)+g_low_ha[1])  \\\n",
      "                    - solvMult*(np.array(solvent.G_dft)+g_up_ha[0]) - soluMult*(np.array(solute.G_dft)+g_up_ha[-1]) ,1), T)\n",
      "print g_up_ha\n",
      "print g_low_ha\n",
      "print Gsol(5000) * Ha_to_eV"
     ],
     "language": "python",
     "metadata": {},
     "outputs": [
      {
       "output_type": "stream",
       "stream": "stdout",
       "text": [
        "dft_id\n",
        "lFe289       0.015305\n",
        "lFeMgO449    0.026860\n",
        "lFeMgO454    0.020929\n",
        "lFeMgO368    0.015611\n",
        "lFeMgO459    0.025457\n",
        "lFeMgO464    0.034604\n",
        "lMgO257      0.032002\n",
        "Name: N_fu, dtype: float64\n",
        "dft_id\n",
        "lFe289      -0.001103\n",
        "lFeMgO449   -0.011973\n",
        "lFeMgO454   -0.028275\n",
        "lFeMgO368   -0.041275\n",
        "lFeMgO459   -0.022357\n",
        "lFeMgO464   -0.006879\n",
        "lMgO257      0.000000\n",
        "Name: N_fu, dtype: float64\n",
        "0.34981593583\n"
       ]
      }
     ],
     "prompt_number": 217
    },
    {
     "cell_type": "code",
     "collapsed": true,
     "input": [
      "# handle error on interpolation\n",
      "#print lowCon.dG_dft\n",
      "Gerr =  mixMult* np.array(lowCon.dG_dft) \\\n",
      "+ solvMult*np.array(solvent.dG_dft) + soluMult*np.array(solute.dG_dft)\n",
      "#print Gerr\n",
      "\n",
      "err1 = lambda T: np.polyval(np.polyfit([5000,7500],[Gsol(5000)+Gerr[0],Gsol(7500)-Gerr[1]],1),T) - Gsol(T)\n",
      "err2 = lambda T: np.polyval(np.polyfit([5000,7500],[Gsol(5000)-Gerr[0],Gsol(7500)+Gerr[1]],1),T) - Gsol(T)\n",
      "\n",
      "#err1 = Gsol_up\n",
      "#err2 = Gsol_low\n",
      "\n",
      "T = np.array([3000,4000,5000,7500])\n",
      "\n",
      "#bound1 = np.hstack([err1(T[:-1]),err2(T[-1])])\n",
      "#bound2 = np.hstack([err2(T[:-1]),err1(T[-1])])\n",
      "#print Gsol(T)\n",
      "#print bound1\n",
      "#print bound2\n",
      "\n",
      "print Gsol(T)\n",
      "print Gsol_up(T)\n",
      "print Gsol_low(T) "
     ],
     "language": "python",
     "metadata": {},
     "outputs": [
      {
       "output_type": "stream",
       "stream": "stdout",
       "text": [
        "[ 0.06302692  0.03794121  0.0128555  -0.04985877]\n",
        "[ 0.06781369  0.04272799  0.01764228 -0.04507199]\n",
        "[ 0.0557269   0.03064119  0.00555548 -0.05715879]\n"
       ]
      }
     ],
     "prompt_number": 193
    },
    {
     "cell_type": "code",
     "collapsed": false,
     "input": [
      "n\n",
      "deltaG_n_to_m(5000,.9,.9)"
     ],
     "language": "python",
     "metadata": {},
     "outputs": [
      {
       "metadata": {},
       "output_type": "pyout",
       "prompt_number": 219,
       "text": [
        "-0.0"
       ]
      }
     ],
     "prompt_number": 219
    },
    {
     "cell_type": "code",
     "collapsed": true,
     "input": [
      "m = np.logspace(.5,4,50)\n",
      "conc = 1. / (m+1)\n",
      "T = 3000 #np.linspace(3000,6000,4)\n",
      "# my derivation \n",
      "boltz = ureg.boltzmann_constant\n",
      "boltz.ito(ureg.hartree / ureg.kelvin)\n",
      "kb = boltz.magnitude\n",
      "\n",
      "def deltaG_n_to_m(T,n,m):\n",
      "    factor_swahl = (m+1)*np.log(Vsol(T) + (m - n) / n * Vend(T)) + n * np.log(Vend(T)) -  m * np.log(Vend(T) * m / n) \\\n",
      "    - (n+1)* np.log(Vsol(T))\n",
      "    return -kb * T * factor_swahl\n",
      "\n",
      "deltaGnm  = deltaG_n_to_m(T,n,m)\n",
      "deltaGn = Gsol(T)\n",
      "deltaGm = deltaGn + deltaGnm\n",
      "print deltaGnm\n",
      "print deltaGn\n",
      "print deltaGm"
     ],
     "language": "python",
     "metadata": {},
     "outputs": [
      {
       "output_type": "stream",
       "stream": "stdout",
       "text": [
        "[ 0.0095878   0.00811913  0.00663155  0.00512843  0.0036127   0.00208684\n",
        "  0.00055291 -0.00098736 -0.00253261 -0.00408174 -0.00563386 -0.00718831\n",
        " -0.00874455 -0.01030217 -0.01186085 -0.01342035 -0.01498049 -0.01654112\n",
        " -0.01810214 -0.01966345 -0.02122501 -0.02278674 -0.02434863 -0.02591064\n",
        " -0.02747274 -0.02903491 -0.03059715 -0.03215944 -0.03372178 -0.03528414\n",
        " -0.03684654 -0.03840896 -0.0399714  -0.04153385 -0.04309632 -0.0446588\n",
        " -0.04622128 -0.04778378 -0.04934628 -0.05090879 -0.05247131 -0.05403383\n",
        " -0.05559635 -0.05715887 -0.0587214  -0.06028393 -0.06184646 -0.06340899\n",
        " -0.06497152 -0.06653405]\n",
        "0.0630269166667\n",
        "[ 0.07261471  0.07114605  0.06965847  0.06815535  0.06663962  0.06511375\n",
        "  0.06357983  0.06203956  0.06049431  0.05894518  0.05739305  0.0558386\n",
        "  0.05428237  0.05272475  0.05116607  0.04960656  0.04804642  0.04648579\n",
        "  0.04492478  0.04336346  0.04180191  0.04024017  0.03867829  0.03711628\n",
        "  0.03555418  0.033992    0.03242976  0.03086747  0.02930514  0.02774277\n",
        "  0.02618038  0.02461796  0.02305552  0.02149307  0.0199306   0.01836812\n",
        "  0.01680563  0.01524314  0.01368063  0.01211812  0.01055561  0.00899309\n",
        "  0.00743057  0.00586805  0.00430552  0.00274299  0.00118046 -0.00038207\n",
        " -0.0019446  -0.00350714]\n"
       ]
      }
     ],
     "prompt_number": 210
    },
    {
     "cell_type": "code",
     "collapsed": false,
     "input": [
      "kb"
     ],
     "language": "python",
     "metadata": {},
     "outputs": [
      {
       "metadata": {},
       "output_type": "pyout",
       "prompt_number": 211,
       "text": [
        "3.166811672889211e-06"
       ]
      }
     ],
     "prompt_number": 211
    },
    {
     "cell_type": "code",
     "collapsed": true,
     "input": [],
     "language": "python",
     "metadata": {},
     "outputs": []
    },
    {
     "cell_type": "code",
     "collapsed": false,
     "input": [
      "plt.figure()\n",
      "\n",
      "ax = plt.subplot(1,1,1)\n",
      "minorLocator   = plt.MultipleLocator(.05)\n",
      "ax.yaxis.set_minor_locator(minorLocator)\n",
      "\n",
      "plt.xscale('log')\n",
      "plt.axhline(color='k',lw=2)\n",
      "plt.axvline(x=(1/(n+1.)),color='k',lw=2)\n",
      "colors = ['b','g','r','c','m']\n",
      "\n",
      "for i,T in enumerate([3000,4000,5000,7500]):\n",
      "    #deltaGnm  = deltaG_n_to_m(T,n,m) * Ha_to_eV / 10.\n",
      "    #deltaGn = Gsol(T) * Ha_to_eV /10.\n",
      "    deltaGnm  = deltaG_n_to_m(T,n,m) \n",
      "    \n",
      "    #deltaGm = (Gsol(T)+ deltaGnm) * Ha_to_eV / 10. # why / 10, its because 1 MgO + 9 Fe -> 10 F.U.\n",
      "    deltaGm = (Gsol(T)+ deltaGnm) * Ha_to_eV / 10.\n",
      "    deltaGm_up = (Gsol_up(T)+ deltaGnm) * Ha_to_eV / 10.\n",
      "    deltaGm_low = (Gsol_low(T)+ deltaGnm) * Ha_to_eV /10.\n",
      "\n",
      "    plt.plot(conc,deltaGm,label=str(T)+' GPa',color=colors[i])\n",
      "    #up = 2 *err1(T) * Ha_to_eV / 10.\n",
      "    #down = 2 * err2(T) * Ha_to_eV / 10.\n",
      "    #plt.fill_between(conc,deltaGm + up*np.ones(conc.shape),deltaGm + down*np.ones(conc.shape),alpha = 0.3)\n",
      "    plt.fill_between(conc,deltaGm_up,deltaGm_low,alpha=0.2,color=colors[i])\n",
      "    \n",
      "plt.xlim(1e-4,2e-1)\n",
      "#plt.ylim(-1.8,0.8)\n",
      "plt.legend(loc='lower right', borderaxespad=1)\n",
      "ax.set_xlabel(r'$X_{\\rm MgO}$')\n",
      "ax.set_ylabel(r'$\\Delta G_{\\rm mix}$ $({\\rm eV})$')\n",
      "    "
     ],
     "language": "python",
     "metadata": {},
     "outputs": [
      {
       "metadata": {},
       "output_type": "pyout",
       "prompt_number": 224,
       "text": [
        "<matplotlib.text.Text at 0x11425e550>"
       ]
      }
     ],
     "prompt_number": 224
    },
    {
     "cell_type": "code",
     "collapsed": true,
     "input": [
      "deltaGm"
     ],
     "language": "python",
     "metadata": {},
     "outputs": [
      {
       "metadata": {},
       "output_type": "pyout",
       "prompt_number": 201,
       "text": [
        "array([  56196.25719371,   47582.99551   ,   38860.56960158,\n",
        "         30048.92267274,   21165.31479134,   12224.37320891,\n",
        "          3238.25921282,   -5783.08924199,  -14831.67578158,\n",
        "        -23901.15421953,  -32986.5487608 ,  -42083.9992457 ,\n",
        "        -51190.53839154,  -60303.90314292,  -69422.37898608,\n",
        "        -78544.67416388,  -87669.81981713,  -96797.09185755,\n",
        "       -105925.95058244, -115055.99447318, -124186.92514282,\n",
        "       -133318.52092732, -142450.61710251, -151583.09113308,\n",
        "       -160715.8517143 , -169848.83065405, -178981.97687203,\n",
        "       -188115.25196954, -197248.62696182, -206382.07986769,\n",
        "       -215515.59393109, -224649.15630753, -233782.75709243,\n",
        "       -242916.38860025, -252050.04482921, -261183.72106213,\n",
        "       -270317.41356776, -279451.11937484, -288584.83610354,\n",
        "       -297718.56183655, -306852.29502025, -315986.03438858,\n",
        "       -325119.77890653, -334253.52772315, -343387.28013555,\n",
        "       -352521.03556188, -361654.79351888, -370788.5536045 ,\n",
        "       -379922.31548175, -389056.07886859])"
       ]
      }
     ],
     "prompt_number": 201
    },
    {
     "cell_type": "code",
     "collapsed": false,
     "input": [
      "plt.legend?"
     ],
     "language": "python",
     "metadata": {},
     "outputs": [],
     "prompt_number": 196
    },
    {
     "cell_type": "code",
     "collapsed": false,
     "input": [
      "ax = plt.plot(conc,deltaGm)\n"
     ],
     "language": "python",
     "metadata": {},
     "outputs": [],
     "prompt_number": 197
    },
    {
     "cell_type": "code",
     "collapsed": false,
     "input": [
      "plt.show()"
     ],
     "language": "python",
     "metadata": {},
     "outputs": [],
     "prompt_number": 198
    },
    {
     "cell_type": "code",
     "collapsed": false,
     "input": [
      "conc"
     ],
     "language": "python",
     "metadata": {},
     "outputs": [
      {
       "metadata": {},
       "output_type": "pyout",
       "prompt_number": 199,
       "text": [
        "array([  2.40253073e-01,   2.11524099e-01,   1.85392187e-01,\n",
        "         1.61826053e-01,   1.40737985e-01,   1.21997984e-01,\n",
        "         1.05447091e-01,   9.09090909e-02,   7.82002289e-02,\n",
        "         6.71368261e-02,   5.75409184e-02,   4.92441581e-02,\n",
        "         4.20902715e-02,   3.59363751e-02,   3.06534300e-02,\n",
        "         2.61260748e-02,   2.22520372e-02,   1.89412785e-02,\n",
        "         1.61149907e-02,   1.37045311e-02,   1.16503556e-02,\n",
        "         9.90099010e-03,   8.41206582e-03,   7.14543208e-03,\n",
        "         6.06835256e-03,   5.15278595e-03,   4.37474805e-03,\n",
        "         3.71375037e-03,   3.15230918e-03,   2.67551819e-03,\n",
        "         2.27067821e-03,   1.92697732e-03,   1.63521540e-03,\n",
        "         1.38756748e-03,   1.17738078e-03,   9.99000999e-04,\n",
        "         8.47623823e-04,   7.19168098e-04,   6.10167698e-04,\n",
        "         5.17679337e-04,   4.39204071e-04,   3.72620474e-04,\n",
        "         3.16127798e-04,   2.68197630e-04,   2.27532810e-04,\n",
        "         1.93032504e-04,   1.63762548e-04,   1.38930245e-04,\n",
        "         1.17862970e-04,   9.99900010e-05])"
       ]
      }
     ],
     "prompt_number": 199
    },
    {
     "cell_type": "code",
     "collapsed": false,
     "input": [],
     "language": "python",
     "metadata": {},
     "outputs": [],
     "prompt_number": 85
    },
    {
     "cell_type": "code",
     "collapsed": false,
     "input": [],
     "language": "python",
     "metadata": {},
     "outputs": []
    }
   ],
   "metadata": {}
  }
 ]
}